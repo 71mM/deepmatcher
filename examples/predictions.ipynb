{
 "cells": [
  {
   "cell_type": "code",
   "execution_count": 1,
   "metadata": {
    "collapsed": true
   },
   "outputs": [],
   "source": [
    "import deepmatcher as dm"
   ]
  },
  {
   "cell_type": "code",
   "execution_count": 2,
   "metadata": {
    "collapsed": true
   },
   "outputs": [],
   "source": [
    "train, validation, test = dm.process(\n",
    "    path='~/emdata/structured_data_rm_long_attrs/Amazon-Google/',\n",
    "    train='train_dm.csv',\n",
    "    validation='valid_dm.csv',\n",
    "    test='test_dm.csv',\n",
    "    ignore_columns=('left_id', 'right_id'),\n",
    "    include_lengths=True,\n",
    "    auto_rebuild_cache=True,\n",
    "    pca=True)"
   ]
  },
  {
   "cell_type": "code",
   "execution_count": 3,
   "metadata": {
    "collapsed": false
   },
   "outputs": [
    {
     "name": "stdout",
     "output_type": "stream",
     "text": [
      "* Number of trainable parameters: 542402\n",
      "=>  TRAIN epoch 1 :\n"
     ]
    },
    {
     "data": {
      "application/vnd.jupyter.widget-view+json": {
       "model_id": "6aa99280c28b4c3393bc526846cf8374",
       "version_major": 2,
       "version_minor": 0
      },
      "text/html": [
       "<p>Failed to display Jupyter Widget of type <code>HBox</code>.</p>\n",
       "<p>\n",
       "  If you're reading this message in the Jupyter Notebook or JupyterLab Notebook, it may mean\n",
       "  that the widgets JavaScript is still loading. If this message persists, it\n",
       "  likely means that the widgets JavaScript library is either not installed or\n",
       "  not enabled. See the <a href=\"https://ipywidgets.readthedocs.io/en/stable/user_install.html\">Jupyter\n",
       "  Widgets Documentation</a> for setup instructions.\n",
       "</p>\n",
       "<p>\n",
       "  If you're reading this message in another frontend (for example, a static\n",
       "  rendering on GitHub or <a href=\"https://nbviewer.jupyter.org/\">NBViewer</a>),\n",
       "  it may mean that your frontend doesn't currently support widgets.\n",
       "</p>\n"
      ],
      "text/plain": [
       "HBox(children=(IntProgress(value=0, max=86), HTML(value='')))"
      ]
     },
     "metadata": {},
     "output_type": "display_data"
    },
    {
     "name": "stdout",
     "output_type": "stream",
     "text": [
      "\n",
      "Finished Epoch 1 || Run Time: 3.408846 | Load Time: 2.642742 | F1:    1.63 | Prec:   16.67 | Rec:    0.86 || Ex/s: 1135.7\n",
      "\n",
      "=>  EVAL epoch 1 :\n"
     ]
    },
    {
     "data": {
      "application/vnd.jupyter.widget-view+json": {
       "model_id": "650b2ed6ecc44018a8c2eb258c1a7339",
       "version_major": 2,
       "version_minor": 0
      },
      "text/html": [
       "<p>Failed to display Jupyter Widget of type <code>HBox</code>.</p>\n",
       "<p>\n",
       "  If you're reading this message in the Jupyter Notebook or JupyterLab Notebook, it may mean\n",
       "  that the widgets JavaScript is still loading. If this message persists, it\n",
       "  likely means that the widgets JavaScript library is either not installed or\n",
       "  not enabled. See the <a href=\"https://ipywidgets.readthedocs.io/en/stable/user_install.html\">Jupyter\n",
       "  Widgets Documentation</a> for setup instructions.\n",
       "</p>\n",
       "<p>\n",
       "  If you're reading this message in another frontend (for example, a static\n",
       "  rendering on GitHub or <a href=\"https://nbviewer.jupyter.org/\">NBViewer</a>),\n",
       "  it may mean that your frontend doesn't currently support widgets.\n",
       "</p>\n"
      ],
      "text/plain": [
       "HBox(children=(IntProgress(value=0, max=28), HTML(value='')))"
      ]
     },
     "metadata": {},
     "output_type": "display_data"
    },
    {
     "name": "stdout",
     "output_type": "stream",
     "text": [
      "\n",
      "Finished Epoch 1 || Run Time: 0.633534 | Load Time: 0.891610 | F1:    2.52 | Prec:   75.00 | Rec:    1.28 || Ex/s: 1502.8\n",
      "\n",
      "* Best F1: 2.5210084033613445\n",
      "Saving best model...\n",
      "=>  TRAIN epoch 2 :\n"
     ]
    },
    {
     "data": {
      "application/vnd.jupyter.widget-view+json": {
       "model_id": "4ea79ffe27184a918dc3234a5437242e",
       "version_major": 2,
       "version_minor": 0
      },
      "text/html": [
       "<p>Failed to display Jupyter Widget of type <code>HBox</code>.</p>\n",
       "<p>\n",
       "  If you're reading this message in the Jupyter Notebook or JupyterLab Notebook, it may mean\n",
       "  that the widgets JavaScript is still loading. If this message persists, it\n",
       "  likely means that the widgets JavaScript library is either not installed or\n",
       "  not enabled. See the <a href=\"https://ipywidgets.readthedocs.io/en/stable/user_install.html\">Jupyter\n",
       "  Widgets Documentation</a> for setup instructions.\n",
       "</p>\n",
       "<p>\n",
       "  If you're reading this message in another frontend (for example, a static\n",
       "  rendering on GitHub or <a href=\"https://nbviewer.jupyter.org/\">NBViewer</a>),\n",
       "  it may mean that your frontend doesn't currently support widgets.\n",
       "</p>\n"
      ],
      "text/plain": [
       "HBox(children=(IntProgress(value=0, max=86), HTML(value='')))"
      ]
     },
     "metadata": {},
     "output_type": "display_data"
    },
    {
     "name": "stdout",
     "output_type": "stream",
     "text": [
      "\n",
      "Finished Epoch 2 || Run Time: 3.360548 | Load Time: 2.654864 | F1:   13.98 | Prec:   54.90 | Rec:    8.01 || Ex/s: 1142.6\n",
      "\n",
      "=>  EVAL epoch 2 :\n"
     ]
    },
    {
     "data": {
      "application/vnd.jupyter.widget-view+json": {
       "model_id": "53eae2b1a8954c8d84ad6fa3afeea36e",
       "version_major": 2,
       "version_minor": 0
      },
      "text/html": [
       "<p>Failed to display Jupyter Widget of type <code>HBox</code>.</p>\n",
       "<p>\n",
       "  If you're reading this message in the Jupyter Notebook or JupyterLab Notebook, it may mean\n",
       "  that the widgets JavaScript is still loading. If this message persists, it\n",
       "  likely means that the widgets JavaScript library is either not installed or\n",
       "  not enabled. See the <a href=\"https://ipywidgets.readthedocs.io/en/stable/user_install.html\">Jupyter\n",
       "  Widgets Documentation</a> for setup instructions.\n",
       "</p>\n",
       "<p>\n",
       "  If you're reading this message in another frontend (for example, a static\n",
       "  rendering on GitHub or <a href=\"https://nbviewer.jupyter.org/\">NBViewer</a>),\n",
       "  it may mean that your frontend doesn't currently support widgets.\n",
       "</p>\n"
      ],
      "text/plain": [
       "HBox(children=(IntProgress(value=0, max=28), HTML(value='')))"
      ]
     },
     "metadata": {},
     "output_type": "display_data"
    },
    {
     "name": "stdout",
     "output_type": "stream",
     "text": [
      "\n",
      "Finished Epoch 2 || Run Time: 0.597546 | Load Time: 0.861181 | F1:   11.90 | Prec:   45.71 | Rec:    6.84 || Ex/s: 1571.4\n",
      "\n",
      "* Best F1: 11.895910780669144\n",
      "Saving best model...\n",
      "=>  TRAIN epoch 3 :\n"
     ]
    },
    {
     "data": {
      "application/vnd.jupyter.widget-view+json": {
       "model_id": "697732ceac7646a993ca82aa199d6f02",
       "version_major": 2,
       "version_minor": 0
      },
      "text/html": [
       "<p>Failed to display Jupyter Widget of type <code>HBox</code>.</p>\n",
       "<p>\n",
       "  If you're reading this message in the Jupyter Notebook or JupyterLab Notebook, it may mean\n",
       "  that the widgets JavaScript is still loading. If this message persists, it\n",
       "  likely means that the widgets JavaScript library is either not installed or\n",
       "  not enabled. See the <a href=\"https://ipywidgets.readthedocs.io/en/stable/user_install.html\">Jupyter\n",
       "  Widgets Documentation</a> for setup instructions.\n",
       "</p>\n",
       "<p>\n",
       "  If you're reading this message in another frontend (for example, a static\n",
       "  rendering on GitHub or <a href=\"https://nbviewer.jupyter.org/\">NBViewer</a>),\n",
       "  it may mean that your frontend doesn't currently support widgets.\n",
       "</p>\n"
      ],
      "text/plain": [
       "HBox(children=(IntProgress(value=0, max=86), HTML(value='')))"
      ]
     },
     "metadata": {},
     "output_type": "display_data"
    },
    {
     "name": "stdout",
     "output_type": "stream",
     "text": [
      "\n",
      "Finished Epoch 3 || Run Time: 3.403046 | Load Time: 2.639025 | F1:   28.16 | Prec:   60.95 | Rec:   18.31 || Ex/s: 1137.5\n",
      "\n",
      "=>  EVAL epoch 3 :\n"
     ]
    },
    {
     "data": {
      "application/vnd.jupyter.widget-view+json": {
       "model_id": "314449d9d2bf483e95c0852d9f4c58e3",
       "version_major": 2,
       "version_minor": 0
      },
      "text/html": [
       "<p>Failed to display Jupyter Widget of type <code>HBox</code>.</p>\n",
       "<p>\n",
       "  If you're reading this message in the Jupyter Notebook or JupyterLab Notebook, it may mean\n",
       "  that the widgets JavaScript is still loading. If this message persists, it\n",
       "  likely means that the widgets JavaScript library is either not installed or\n",
       "  not enabled. See the <a href=\"https://ipywidgets.readthedocs.io/en/stable/user_install.html\">Jupyter\n",
       "  Widgets Documentation</a> for setup instructions.\n",
       "</p>\n",
       "<p>\n",
       "  If you're reading this message in another frontend (for example, a static\n",
       "  rendering on GitHub or <a href=\"https://nbviewer.jupyter.org/\">NBViewer</a>),\n",
       "  it may mean that your frontend doesn't currently support widgets.\n",
       "</p>\n"
      ],
      "text/plain": [
       "HBox(children=(IntProgress(value=0, max=28), HTML(value='')))"
      ]
     },
     "metadata": {},
     "output_type": "display_data"
    },
    {
     "name": "stdout",
     "output_type": "stream",
     "text": [
      "\n",
      "Finished Epoch 3 || Run Time: 0.632032 | Load Time: 0.892887 | F1:   25.87 | Prec:   49.40 | Rec:   17.52 || Ex/s: 1502.9\n",
      "\n",
      "* Best F1: 25.86750788643533\n",
      "Saving best model...\n"
     ]
    }
   ],
   "source": [
    "em_model = dm.MatchingModel(attr_summarizer='sif')\n",
    "em_model.run_train(\n",
    "    train,\n",
    "    validation,\n",
    "    label_smoothing=0.05,\n",
    "    batch_size=16,\n",
    "    epochs=3,\n",
    "    best_save_path='/tmp/sif_ag.pth',\n",
    "    pos_weight=1.3)"
   ]
  },
  {
   "cell_type": "code",
   "execution_count": 4,
   "metadata": {
    "collapsed": false
   },
   "outputs": [
    {
     "name": "stdout",
     "output_type": "stream",
     "text": [
      "Load time: 0.9454613011330366\n",
      "Vocab time: 13.395626275800169\n",
      "Metadata time: 7.719825953245163e-05\n",
      "=>  PREDICT epoch 3 :\n"
     ]
    },
    {
     "data": {
      "application/vnd.jupyter.widget-view+json": {
       "model_id": "1a6f168441bc463b88b90fd86e3ee481",
       "version_major": 2,
       "version_minor": 0
      },
      "text/html": [
       "<p>Failed to display Jupyter Widget of type <code>HBox</code>.</p>\n",
       "<p>\n",
       "  If you're reading this message in the Jupyter Notebook or JupyterLab Notebook, it may mean\n",
       "  that the widgets JavaScript is still loading. If this message persists, it\n",
       "  likely means that the widgets JavaScript library is either not installed or\n",
       "  not enabled. See the <a href=\"https://ipywidgets.readthedocs.io/en/stable/user_install.html\">Jupyter\n",
       "  Widgets Documentation</a> for setup instructions.\n",
       "</p>\n",
       "<p>\n",
       "  If you're reading this message in another frontend (for example, a static\n",
       "  rendering on GitHub or <a href=\"https://nbviewer.jupyter.org/\">NBViewer</a>),\n",
       "  it may mean that your frontend doesn't currently support widgets.\n",
       "</p>\n"
      ],
      "text/plain": [
       "HBox(children=(IntProgress(value=0, max=14), HTML(value='')))"
      ]
     },
     "metadata": {},
     "output_type": "display_data"
    },
    {
     "name": "stdout",
     "output_type": "stream",
     "text": [
      "\n",
      "Finished Epoch 3 || Run Time: 0.404853 | Load Time: 0.859838 | F1:   25.87 | Prec:   49.40 | Rec:   17.52 || Ex/s: 1812.1\n",
      "\n",
      "2293 predictions in total\n",
      "id                                                                    0\n",
      "label                                                                 0\n",
      "left_title            adobe creative suite cs3 production premium up...\n",
      "left_manufacturer                                                 adobe\n",
      "left_price                                                       1199.0\n",
      "right_title           19600061dm adobe creative suite 3 production p...\n",
      "right_manufacturer                                                     \n",
      "right_price                                                       20.97\n",
      "Name: 0, dtype: object Match prob =  0.16747018694877625\n",
      "id                                                                    1\n",
      "label                                                                 0\n",
      "left_title            m-audio pro tools m-powered 7.3 m-audio compat...\n",
      "left_manufacturer                                               m-audio\n",
      "left_price                                                       299.99\n",
      "right_title           make finale 2007 software music production sof...\n",
      "right_manufacturer                                                     \n",
      "right_price                                                      429.95\n",
      "Name: 1, dtype: object Match prob =  0.12776339054107666\n",
      "id                                                                    2\n",
      "label                                                                 0\n",
      "left_title                   apple . mac 4.0 online service family pack\n",
      "left_manufacturer                                                 apple\n",
      "left_price                                                       179.95\n",
      "right_title           apple iwork &apos; 06 family pack software app...\n",
      "right_manufacturer                                                     \n",
      "right_price                                                        99.0\n",
      "Name: 2, dtype: object Match prob =  0.15407554805278778\n"
     ]
    }
   ],
   "source": [
    "unlabeled = dm.process(\n",
    "    path='~/emdata/structured_data_rm_long_attrs/Amazon-Google/',\n",
    "    unlabeled='valid_dm.csv',\n",
    "    ignore_columns=('left_id', 'right_id'),\n",
    "    include_lengths=True,\n",
    "    pca=True)\n",
    "raw_table = unlabeled.get_raw_table()\n",
    "\n",
    "em_model.load_state('/tmp/sif_ag.pth')\n",
    "predictions = em_model.run_prediction(validation)\n",
    "\n",
    "print(len(predictions), 'predictions in total')\n",
    "for _, row in raw_table.head(3).iterrows():\n",
    "    print(row, 'Match prob = ', predictions[row['id']])"
   ]
  }
 ],
 "metadata": {
  "kernelspec": {
   "display_name": "Python 3",
   "language": "python",
   "name": "python3"
  },
  "language_info": {
   "codemirror_mode": {
    "name": "ipython",
    "version": 3
   },
   "file_extension": ".py",
   "mimetype": "text/x-python",
   "name": "python",
   "nbconvert_exporter": "python",
   "pygments_lexer": "ipython3",
   "version": "3.6.0"
  }
 },
 "nbformat": 4,
 "nbformat_minor": 2
}
