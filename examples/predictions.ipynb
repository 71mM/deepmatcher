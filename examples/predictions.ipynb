{
 "cells": [
  {
   "cell_type": "code",
   "execution_count": 1,
   "metadata": {},
   "outputs": [],
   "source": [
    "import deepmatcher as dm"
   ]
  },
  {
   "cell_type": "code",
   "execution_count": 2,
   "metadata": {},
   "outputs": [],
   "source": [
    "# Process data. Downloads word vectors if necessary. Note that this can take several minutes.\n",
    "train, validation, test = dm.process(\n",
    "    path='sample_data',\n",
    "    train='amz_goog_train.csv',\n",
    "    validation='amz_goog_validation.csv',\n",
    "    test='amz_goog_test.csv',\n",
    "    ignore_columns=('left_id', 'right_id'))"
   ]
  },
  {
   "cell_type": "code",
   "execution_count": 3,
   "metadata": {},
   "outputs": [
    {
     "name": "stdout",
     "output_type": "stream",
     "text": [
      "* Number of trainable parameters: 542402\n",
      "===>  TRAIN Epoch 1 :\n"
     ]
    },
    {
     "name": "stderr",
     "output_type": "stream",
     "text": [
      "0% [██████████████████████████████] 100% | ETA: 00:00:00\n",
      "Total time elapsed: 00:00:05\n"
     ]
    },
    {
     "name": "stdout",
     "output_type": "stream",
     "text": [
      "Finished Epoch 1 || Run Time:    3.4 | Load Time:    2.5 || F1:  15.91 | Prec:  46.85 | Rec:   9.59 || Ex/s: 1176.43\n",
      "\n",
      "===>  EVAL Epoch 1 :\n"
     ]
    },
    {
     "name": "stderr",
     "output_type": "stream",
     "text": [
      "0% [████████████████████████████] 100% | ETA: 00:00:00\n",
      "Total time elapsed: 00:00:01\n"
     ]
    },
    {
     "name": "stdout",
     "output_type": "stream",
     "text": [
      "Finished Epoch 1 || Run Time:    0.6 | Load Time:    0.8 || F1:  32.54 | Prec:  52.88 | Rec:  23.50 || Ex/s: 1620.37\n",
      "\n",
      "* Best F1: 32.54437869822486\n",
      "Saving best model...\n",
      "===>  TRAIN Epoch 2 :\n"
     ]
    },
    {
     "name": "stderr",
     "output_type": "stream",
     "text": [
      "0% [██████████████████████████████] 100% | ETA: 00:00:00\n",
      "Total time elapsed: 00:00:05\n"
     ]
    },
    {
     "name": "stdout",
     "output_type": "stream",
     "text": [
      "Finished Epoch 2 || Run Time:    3.3 | Load Time:    2.5 || F1:  49.66 | Prec:  60.04 | Rec:  42.35 || Ex/s: 1182.55\n",
      "\n",
      "===>  EVAL Epoch 2 :\n"
     ]
    },
    {
     "name": "stderr",
     "output_type": "stream",
     "text": [
      "0% [████████████████████████████] 100% | ETA: 00:00:00\n",
      "Total time elapsed: 00:00:01\n"
     ]
    },
    {
     "name": "stdout",
     "output_type": "stream",
     "text": [
      "Finished Epoch 2 || Run Time:    0.6 | Load Time:    0.8 || F1:  53.06 | Prec:  50.78 | Rec:  55.56 || Ex/s: 1625.20\n",
      "\n",
      "* Best F1: 53.06122448979592\n",
      "Saving best model...\n",
      "===>  TRAIN Epoch 3 :\n"
     ]
    },
    {
     "name": "stderr",
     "output_type": "stream",
     "text": [
      "0% [██████████████████████████████] 100% | ETA: 00:00:00\n",
      "Total time elapsed: 00:00:05\n"
     ]
    },
    {
     "name": "stdout",
     "output_type": "stream",
     "text": [
      "Finished Epoch 3 || Run Time:    3.3 | Load Time:    2.5 || F1:  65.67 | Prec:  68.81 | Rec:  62.80 || Ex/s: 1183.55\n",
      "\n",
      "===>  EVAL Epoch 3 :\n"
     ]
    },
    {
     "name": "stderr",
     "output_type": "stream",
     "text": [
      "0% [████████████████████████████] 100% | ETA: 00:00:00\n",
      "Total time elapsed: 00:00:01\n"
     ]
    },
    {
     "name": "stdout",
     "output_type": "stream",
     "text": [
      "Finished Epoch 3 || Run Time:    0.6 | Load Time:    0.8 || F1:  56.13 | Prec:  54.66 | Rec:  57.69 || Ex/s: 1601.09\n",
      "\n",
      "* Best F1: 56.13305613305613\n",
      "Saving best model...\n",
      "===>  TRAIN Epoch 4 :\n"
     ]
    },
    {
     "name": "stderr",
     "output_type": "stream",
     "text": [
      "0% [██████████████████████████████] 100% | ETA: 00:00:00\n",
      "Total time elapsed: 00:00:05\n"
     ]
    },
    {
     "name": "stdout",
     "output_type": "stream",
     "text": [
      "Finished Epoch 4 || Run Time:    3.3 | Load Time:    2.5 || F1:  74.69 | Prec:  75.29 | Rec:  74.11 || Ex/s: 1186.71\n",
      "\n",
      "===>  EVAL Epoch 4 :\n"
     ]
    },
    {
     "name": "stderr",
     "output_type": "stream",
     "text": [
      "0% [████████████████████████████] 100% | ETA: 00:00:00\n",
      "Total time elapsed: 00:00:01\n"
     ]
    },
    {
     "name": "stdout",
     "output_type": "stream",
     "text": [
      "Finished Epoch 4 || Run Time:    0.6 | Load Time:    0.8 || F1:  54.35 | Prec:  55.31 | Rec:  53.42 || Ex/s: 1621.10\n",
      "\n",
      "===>  TRAIN Epoch 5 :\n"
     ]
    },
    {
     "name": "stderr",
     "output_type": "stream",
     "text": [
      "0% [██████████████████████████████] 100% | ETA: 00:00:00\n",
      "Total time elapsed: 00:00:05\n"
     ]
    },
    {
     "name": "stdout",
     "output_type": "stream",
     "text": [
      "Finished Epoch 5 || Run Time:    3.3 | Load Time:    2.5 || F1:  80.60 | Prec:  80.95 | Rec:  80.26 || Ex/s: 1185.42\n",
      "\n",
      "===>  EVAL Epoch 5 :\n"
     ]
    },
    {
     "name": "stderr",
     "output_type": "stream",
     "text": [
      "0% [████████████████████████████] 100% | ETA: 00:00:00\n",
      "Total time elapsed: 00:00:01\n"
     ]
    },
    {
     "name": "stdout",
     "output_type": "stream",
     "text": [
      "Finished Epoch 5 || Run Time:    0.6 | Load Time:    0.8 || F1:  58.61 | Prec:  54.61 | Rec:  63.25 || Ex/s: 1624.64\n",
      "\n",
      "* Best F1: 58.61386138613862\n",
      "Saving best model...\n",
      "===>  TRAIN Epoch 6 :\n"
     ]
    },
    {
     "name": "stderr",
     "output_type": "stream",
     "text": [
      "0% [██████████████████████████████] 100% | ETA: 00:00:00\n",
      "Total time elapsed: 00:00:05\n"
     ]
    },
    {
     "name": "stdout",
     "output_type": "stream",
     "text": [
      "Finished Epoch 6 || Run Time:    3.3 | Load Time:    2.5 || F1:  85.31 | Prec:  84.65 | Rec:  85.98 || Ex/s: 1180.93\n",
      "\n",
      "===>  EVAL Epoch 6 :\n"
     ]
    },
    {
     "name": "stderr",
     "output_type": "stream",
     "text": [
      "0% [████████████████████████████] 100% | ETA: 00:00:00\n",
      "Total time elapsed: 00:00:01\n"
     ]
    },
    {
     "name": "stdout",
     "output_type": "stream",
     "text": [
      "Finished Epoch 6 || Run Time:    0.6 | Load Time:    0.8 || F1:  58.51 | Prec:  56.85 | Rec:  60.26 || Ex/s: 1624.28\n",
      "\n",
      "===>  TRAIN Epoch 7 :\n"
     ]
    },
    {
     "name": "stderr",
     "output_type": "stream",
     "text": [
      "0% [██████████████████████████████] 100% | ETA: 00:00:00\n",
      "Total time elapsed: 00:00:05\n"
     ]
    },
    {
     "name": "stdout",
     "output_type": "stream",
     "text": [
      "Finished Epoch 7 || Run Time:    3.3 | Load Time:    2.5 || F1:  86.70 | Prec:  85.73 | Rec:  87.70 || Ex/s: 1182.74\n",
      "\n",
      "===>  EVAL Epoch 7 :\n"
     ]
    },
    {
     "name": "stderr",
     "output_type": "stream",
     "text": [
      "0% [████████████████████████████] 100% | ETA: 00:00:00\n",
      "Total time elapsed: 00:00:01\n"
     ]
    },
    {
     "name": "stdout",
     "output_type": "stream",
     "text": [
      "Finished Epoch 7 || Run Time:    0.6 | Load Time:    0.8 || F1:  56.14 | Prec:  57.66 | Rec:  54.70 || Ex/s: 1585.14\n",
      "\n",
      "===>  TRAIN Epoch 8 :\n"
     ]
    },
    {
     "name": "stderr",
     "output_type": "stream",
     "text": [
      "0% [██████████████████████████████] 100% | ETA: 00:00:00\n",
      "Total time elapsed: 00:00:05\n"
     ]
    },
    {
     "name": "stdout",
     "output_type": "stream",
     "text": [
      "Finished Epoch 8 || Run Time:    3.3 | Load Time:    2.5 || F1:  89.20 | Prec:  88.02 | Rec:  90.41 || Ex/s: 1195.69\n",
      "\n",
      "===>  EVAL Epoch 8 :\n"
     ]
    },
    {
     "name": "stderr",
     "output_type": "stream",
     "text": [
      "0% [████████████████████████████] 100% | ETA: 00:00:00\n",
      "Total time elapsed: 00:00:01\n"
     ]
    },
    {
     "name": "stdout",
     "output_type": "stream",
     "text": [
      "Finished Epoch 8 || Run Time:    0.6 | Load Time:    0.8 || F1:  57.14 | Prec:  59.81 | Rec:  54.70 || Ex/s: 1612.92\n",
      "\n",
      "===>  TRAIN Epoch 9 :\n"
     ]
    },
    {
     "name": "stderr",
     "output_type": "stream",
     "text": [
      "0% [██████████████████████████████] 100% | ETA: 00:00:00\n",
      "Total time elapsed: 00:00:05\n"
     ]
    },
    {
     "name": "stdout",
     "output_type": "stream",
     "text": [
      "Finished Epoch 9 || Run Time:    3.3 | Load Time:    2.5 || F1:  90.23 | Prec:  89.34 | Rec:  91.13 || Ex/s: 1195.78\n",
      "\n",
      "===>  EVAL Epoch 9 :\n"
     ]
    },
    {
     "name": "stderr",
     "output_type": "stream",
     "text": [
      "0% [████████████████████████████] 100% | ETA: 00:00:00\n",
      "Total time elapsed: 00:00:01\n"
     ]
    },
    {
     "name": "stdout",
     "output_type": "stream",
     "text": [
      "Finished Epoch 9 || Run Time:    0.6 | Load Time:    0.8 || F1:  56.55 | Prec:  61.19 | Rec:  52.56 || Ex/s: 1625.47\n",
      "\n",
      "===>  TRAIN Epoch 10 :\n"
     ]
    },
    {
     "name": "stderr",
     "output_type": "stream",
     "text": [
      "0% [██████████████████████████████] 100% | ETA: 00:00:00\n",
      "Total time elapsed: 00:00:05\n"
     ]
    },
    {
     "name": "stdout",
     "output_type": "stream",
     "text": [
      "Finished Epoch 10 || Run Time:    3.3 | Load Time:    2.5 || F1:  91.83 | Prec:  91.24 | Rec:  92.42 || Ex/s: 1185.74\n",
      "\n",
      "===>  EVAL Epoch 10 :\n"
     ]
    },
    {
     "name": "stderr",
     "output_type": "stream",
     "text": [
      "0% [████████████████████████████] 100% | ETA: 00:00:00\n",
      "Total time elapsed: 00:00:01\n"
     ]
    },
    {
     "name": "stdout",
     "output_type": "stream",
     "text": [
      "Finished Epoch 10 || Run Time:    0.6 | Load Time:    0.8 || F1:  53.99 | Prec:  59.90 | Rec:  49.15 || Ex/s: 1624.20\n",
      "\n",
      "===>  TRAIN Epoch 11 :\n"
     ]
    },
    {
     "name": "stderr",
     "output_type": "stream",
     "text": [
      "0% [██████████████████████████████] 100% | ETA: 00:00:00\n",
      "Total time elapsed: 00:00:05\n"
     ]
    },
    {
     "name": "stdout",
     "output_type": "stream",
     "text": [
      "Finished Epoch 11 || Run Time:    3.3 | Load Time:    2.5 || F1:  92.82 | Prec:  92.23 | Rec:  93.42 || Ex/s: 1186.23\n",
      "\n",
      "===>  EVAL Epoch 11 :\n"
     ]
    },
    {
     "name": "stderr",
     "output_type": "stream",
     "text": [
      "0% [████████████████████████████] 100% | ETA: 00:00:00\n",
      "Total time elapsed: 00:00:01\n"
     ]
    },
    {
     "name": "stdout",
     "output_type": "stream",
     "text": [
      "Finished Epoch 11 || Run Time:    0.6 | Load Time:    0.8 || F1:  53.37 | Prec:  60.99 | Rec:  47.44 || Ex/s: 1621.48\n",
      "\n",
      "===>  TRAIN Epoch 12 :\n"
     ]
    },
    {
     "name": "stderr",
     "output_type": "stream",
     "text": [
      "0% [██████████████████████████████] 100% | ETA: 00:00:00\n",
      "Total time elapsed: 00:00:05\n"
     ]
    },
    {
     "name": "stdout",
     "output_type": "stream",
     "text": [
      "Finished Epoch 12 || Run Time:    3.3 | Load Time:    2.5 || F1:  93.12 | Prec:  92.39 | Rec:  93.85 || Ex/s: 1190.36\n",
      "\n",
      "===>  EVAL Epoch 12 :\n"
     ]
    },
    {
     "name": "stderr",
     "output_type": "stream",
     "text": [
      "0% [████████████████████████████] 100% | ETA: 00:00:00\n",
      "Total time elapsed: 00:00:01\n"
     ]
    },
    {
     "name": "stdout",
     "output_type": "stream",
     "text": [
      "Finished Epoch 12 || Run Time:    0.6 | Load Time:    0.8 || F1:  52.91 | Prec:  61.24 | Rec:  46.58 || Ex/s: 1576.86\n",
      "\n",
      "===>  TRAIN Epoch 13 :\n"
     ]
    },
    {
     "name": "stderr",
     "output_type": "stream",
     "text": [
      "0% [██████████████████████████████] 100% | ETA: 00:00:00\n",
      "Total time elapsed: 00:00:05\n"
     ]
    },
    {
     "name": "stdout",
     "output_type": "stream",
     "text": [
      "Finished Epoch 13 || Run Time:    3.3 | Load Time:    2.5 || F1:  93.28 | Prec:  92.30 | Rec:  94.28 || Ex/s: 1188.75\n",
      "\n",
      "===>  EVAL Epoch 13 :\n"
     ]
    },
    {
     "name": "stderr",
     "output_type": "stream",
     "text": [
      "0% [████████████████████████████] 100% | ETA: 00:00:00\n",
      "Total time elapsed: 00:00:01\n"
     ]
    },
    {
     "name": "stdout",
     "output_type": "stream",
     "text": [
      "Finished Epoch 13 || Run Time:    0.6 | Load Time:    0.8 || F1:  53.04 | Prec:  61.58 | Rec:  46.58 || Ex/s: 1622.18\n",
      "\n",
      "===>  TRAIN Epoch 14 :\n"
     ]
    },
    {
     "name": "stderr",
     "output_type": "stream",
     "text": [
      "0% [██████████████████████████████] 100% | ETA: 00:00:00\n",
      "Total time elapsed: 00:00:05\n"
     ]
    },
    {
     "name": "stdout",
     "output_type": "stream",
     "text": [
      "Finished Epoch 14 || Run Time:    3.3 | Load Time:    2.5 || F1:  93.55 | Prec:  92.70 | Rec:  94.42 || Ex/s: 1186.38\n",
      "\n",
      "===>  EVAL Epoch 14 :\n"
     ]
    },
    {
     "name": "stderr",
     "output_type": "stream",
     "text": [
      "0% [████████████████████████████] 100% | ETA: 00:00:00\n",
      "Total time elapsed: 00:00:01\n"
     ]
    },
    {
     "name": "stdout",
     "output_type": "stream",
     "text": [
      "Finished Epoch 14 || Run Time:    0.6 | Load Time:    0.8 || F1:  52.55 | Prec:  61.02 | Rec:  46.15 || Ex/s: 1607.73\n",
      "\n",
      "===>  TRAIN Epoch 15 :\n"
     ]
    },
    {
     "name": "stderr",
     "output_type": "stream",
     "text": [
      "0% [██████████████████████████████] 100% | ETA: 00:00:00\n",
      "Total time elapsed: 00:00:05\n"
     ]
    },
    {
     "name": "stdout",
     "output_type": "stream",
     "text": [
      "Finished Epoch 15 || Run Time:    3.3 | Load Time:    2.5 || F1:  93.70 | Prec:  92.72 | Rec:  94.71 || Ex/s: 1186.39\n",
      "\n",
      "===>  EVAL Epoch 15 :\n"
     ]
    },
    {
     "name": "stderr",
     "output_type": "stream",
     "text": [
      "0% [████████████████████████████] 100% | ETA: 00:00:00\n",
      "Total time elapsed: 00:00:01\n"
     ]
    },
    {
     "name": "stdout",
     "output_type": "stream",
     "text": [
      "Finished Epoch 15 || Run Time:    0.6 | Load Time:    0.8 || F1:  52.30 | Prec:  60.34 | Rec:  46.15 || Ex/s: 1622.25\n",
      "\n"
     ]
    }
   ],
   "source": [
    "# Construct SIF DL model and train.\n",
    "sif_model = dm.MatchingModel(attr_summarizer='sif')\n",
    "sif_model.run_train(\n",
    "    train,  # Training dataset.\n",
    "    validation,  # Validation dataset.\n",
    "    epochs=15,  # Number of times to go over the entire training data.\n",
    "    batch_size=16,  # Number of labeled examples to use for each training step.\n",
    "    best_save_path='sif_model.pth',  # Path to save the best model.\n",
    "    pos_weight=1.3)  # The ratio of the weight of positive examples (matches) to weight of negative examples (non-matches).\n",
    "                     # This value should be increased if you have fewer matches than non-matches in your data.\n",
    "                     # You will need to experiment with various values for this parameter to see what works best."
   ]
  },
  {
   "cell_type": "code",
   "execution_count": 5,
   "metadata": {},
   "outputs": [
    {
     "name": "stdout",
     "output_type": "stream",
     "text": [
      "Load time: 0.701711306348443\n",
      "Vocab time: 0.08602772280573845\n",
      "Metadata time: 6.177648901939392e-05\n",
      "===>  PREDICT Epoch 5 :\n"
     ]
    },
    {
     "name": "stderr",
     "output_type": "stream",
     "text": [
      "0% [██████████████] 100% | ETA: 00:00:00\n",
      "Total time elapsed: 00:00:01\n"
     ]
    },
    {
     "name": "stdout",
     "output_type": "stream",
     "text": [
      "Finished Epoch 5 || Run Time:    0.4 | Load Time:    0.8 || F1:  58.61 | Prec:  54.61 | Rec:  63.25 || Ex/s: 1950.63\n",
      "\n",
      "2293 predictions in total\n",
      "id                                                                    0\n",
      "label                                                                 0\n",
      "left_title            adobe creative suite cs3 production premium up...\n",
      "left_manufacturer                                                 adobe\n",
      "left_price                                                       1199.0\n",
      "right_title           19600061dm adobe creative suite 3 production p...\n",
      "right_manufacturer                                                     \n",
      "right_price                                                       20.97\n",
      "Name: 0, dtype: object Match prob =  0.057698335498571396\n",
      "id                                                                    1\n",
      "label                                                                 0\n",
      "left_title            m-audio pro tools m-powered 7.3 m-audio compat...\n",
      "left_manufacturer                                               m-audio\n",
      "left_price                                                       299.99\n",
      "right_title           make finale 2007 software music production sof...\n",
      "right_manufacturer                                                     \n",
      "right_price                                                      429.95\n",
      "Name: 1, dtype: object Match prob =  0.08043736219406128\n",
      "id                                                                    2\n",
      "label                                                                 0\n",
      "left_title                   apple . mac 4.0 online service family pack\n",
      "left_manufacturer                                                 apple\n",
      "left_price                                                       179.95\n",
      "right_title           apple iwork &apos; 06 family pack software app...\n",
      "right_manufacturer                                                     \n",
      "right_price                                                        99.0\n",
      "Name: 2, dtype: object Match prob =  0.5595874190330505\n"
     ]
    }
   ],
   "source": [
    "# Process unlabeled data. Here we are just going to use our validation data\n",
    "# which has labels, but they won't be used since we ask `dm.process` to treat\n",
    "# it as unlabeled data.\n",
    "unlabeled = dm.process(\n",
    "    path='sample_data',\n",
    "    unlabeled='amz_goog_validation.csv',\n",
    "    ignore_columns=('left_id', 'right_id'),\n",
    "    include_lengths=True,\n",
    "    pca=True)\n",
    "\n",
    "# Get raw table of tuple pairs. This won't look exactly as the raw inputs,\n",
    "# since he table is reconstructed from tokenized data.\n",
    "raw_table = unlabeled.get_raw_table()\n",
    "\n",
    "sif_model.load_state('sif_model.pth')\n",
    "predictions = sif_model.run_prediction(validation)\n",
    "\n",
    "print(len(predictions), 'predictions in total')\n",
    "for _, row in raw_table.head(3).iterrows():\n",
    "    print(row, 'Match prob = ', predictions[row['id']])"
   ]
  },
  {
   "cell_type": "code",
   "execution_count": null,
   "metadata": {},
   "outputs": [],
   "source": []
  }
 ],
 "metadata": {
  "kernelspec": {
   "display_name": "Python 3",
   "language": "python",
   "name": "python3"
  },
  "language_info": {
   "codemirror_mode": {
    "name": "ipython",
    "version": 3
   },
   "file_extension": ".py",
   "mimetype": "text/x-python",
   "name": "python",
   "nbconvert_exporter": "python",
   "pygments_lexer": "ipython3",
   "version": "3.6.4"
  }
 },
 "nbformat": 4,
 "nbformat_minor": 2
}
