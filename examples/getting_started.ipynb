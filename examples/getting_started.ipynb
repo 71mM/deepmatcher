{
  "nbformat": 4,
  "nbformat_minor": 0,
  "metadata": {
    "colab": {
      "name": "getting_started.ipynb",
      "version": "0.3.2",
      "views": {},
      "default_view": {},
      "provenance": [],
      "collapsed_sections": []
    },
    "kernelspec": {
      "display_name": "Python 3",
      "language": "python",
      "name": "python3"
    },
    "accelerator": "GPU"
  },
  "cells": [
    {
      "metadata": {
        "id": "aXpIRSAQ-cw1",
        "colab_type": "text"
      },
      "cell_type": "markdown",
      "source": [
        "# Getting started with DeepMatcher\n",
        "\n",
        "Note: you can run **[this notebook live in Google Colab](https://colab.research.google.com/github/sidharthms/deepmatcher/blob/master/examples/getting_started.ipynb)** and use free GPUs provided by Google.\n",
        "\n",
        "This tutorial describes how to effortlessly perform entity matching using deep neural networks. Specifically, we will see how to match pairs of tuples (also called data records or table rows) to determine if they refer to the same real world entity. To do so, we will need labeled examples as input, i.e., tuple pairs which have been annotated as matches or non-matches. This will be used to train our neural network using supervised learning. At the end of this tutorial, you will have a trained neural network as output which you can easily apply to unlabeled tuple pairs to make predictions."
      ]
    },
    {
      "metadata": {
        "id": "19SozaN8QJOf",
        "colab_type": "text"
      },
      "cell_type": "markdown",
      "source": [
        "As an overview, here are the 4 steps to use `deepmatcher` which we will go through in this tutorial:\n",
        "\n",
        "<ol start=\"0\">\n",
        "  <li>Setup</li>\n",
        "  <li>Process labeled data</li>\n",
        "  <li>Define neural network model</li>\n",
        "  <li>Train model</li>\n",
        "  <li>Apply model to new data</li>\n",
        "</ol>\n",
        "\n",
        "Let's begin!"
      ]
    },
    {
      "metadata": {
        "id": "sBtZVvrSQJOf",
        "colab_type": "text"
      },
      "cell_type": "markdown",
      "source": [
        "## Step 0. Setup\n",
        "\n",
        "If you are running this notebook inside Colab, you will first need to install necessary packages by running the code below:"
      ]
    },
    {
      "metadata": {
        "id": "LEiDiDNz-PEG",
        "colab_type": "code",
        "colab": {
          "autoexec": {
            "startup": false,
            "wait_interval": 0
          },
          "base_uri": "https://localhost:8080/",
          "height": 17
        },
        "outputId": "3af884c1-b09b-4659-89da-eb1c24c811c7",
        "executionInfo": {
          "status": "ok",
          "timestamp": 1524617064270,
          "user_tz": 300,
          "elapsed": 82136,
          "user": {
            "displayName": "",
            "photoUrl": "",
            "userId": ""
          }
        }
      },
      "cell_type": "code",
      "source": [
        "try:\n",
        "    import deepmatcher\n",
        "except:\n",
        "    !pip install -q http://download.pytorch.org/whl/cu80/torch-0.3.1-cp36-cp36m-linux_x86_64.whl\n",
        "    !pip install -q --process-dependency-links git+https://github.com/sidharthms/deepmatcher"
      ],
      "execution_count": 1,
      "outputs": []
    },
    {
      "metadata": {
        "id": "D1Hmd9LXQJOk",
        "colab_type": "text"
      },
      "cell_type": "markdown",
      "source": [
        "Now let's import `deepmatcher` which will do all the heavy lifting to build and train neural network models for entity matching. "
      ]
    },
    {
      "metadata": {
        "id": "0422OsKBQJOk",
        "colab_type": "code",
        "colab": {
          "autoexec": {
            "startup": false,
            "wait_interval": 0
          },
          "base_uri": "https://localhost:8080/",
          "height": 17
        },
        "outputId": "1f39e87e-380f-4ce2-95bd-bea04867553e",
        "executionInfo": {
          "status": "ok",
          "timestamp": 1524617080672,
          "user_tz": 300,
          "elapsed": 6623,
          "user": {
            "displayName": "",
            "photoUrl": "",
            "userId": ""
          }
        }
      },
      "cell_type": "code",
      "source": [
        "import deepmatcher as dm"
      ],
      "execution_count": 2,
      "outputs": []
    },
    {
      "metadata": {
        "id": "g6inOGkQQJOn",
        "colab_type": "text"
      },
      "cell_type": "markdown",
      "source": [
        "We recommend having a GPU available for the training in Step 4. In case a GPU is not available, we will use all available CPU cores. You can run the following command to determine if a GPU is available and will be used for training:"
      ]
    },
    {
      "metadata": {
        "id": "GYb5r0etQJOo",
        "colab_type": "code",
        "colab": {
          "autoexec": {
            "startup": false,
            "wait_interval": 0
          },
          "base_uri": "https://localhost:8080/",
          "height": 34
        },
        "outputId": "ec451859-b108-4b36-effe-48b62ccb04a4",
        "executionInfo": {
          "status": "ok",
          "timestamp": 1524617081918,
          "user_tz": 300,
          "elapsed": 289,
          "user": {
            "displayName": "",
            "photoUrl": "",
            "userId": ""
          }
        }
      },
      "cell_type": "code",
      "source": [
        "import torch\n",
        "torch.cuda.is_available()"
      ],
      "execution_count": 3,
      "outputs": [
        {
          "output_type": "execute_result",
          "data": {
            "text/plain": [
              "True"
            ]
          },
          "metadata": {
            "tags": []
          },
          "execution_count": 3
        }
      ]
    },
    {
      "metadata": {
        "id": "Dv_sFh1_QJOs",
        "colab_type": "text"
      },
      "cell_type": "markdown",
      "source": [
        "### Download sample data for entity matching\n",
        "\n",
        "Now let's get some sample data to play with in this tutorial. We will need three sets of labeled data and one set of unlabeled data:\n",
        "\n",
        "1. **Training Data:** This is used for training our neural network model.\n",
        "2. **Validation Data:** This is used for determining the configuration (i.e., hyperparameters) of our model in such a way that the model does not overfit to the training set.\n",
        "3. **Test Data:** This is used to estimate the performance of our trained model on unlabeled data.\n",
        "4. **Unlabeled Data:** The trained model is applied on this data to obtain predictions, which can then be used for downstream tasks in practical application scenarios.\n",
        "\n",
        "We download these four data sets to the `sample_data` directory:"
      ]
    },
    {
      "metadata": {
        "id": "gvPSNrnUuHNF",
        "colab_type": "code",
        "colab": {
          "autoexec": {
            "startup": false,
            "wait_interval": 0
          },
          "base_uri": "https://localhost:8080/",
          "height": 17
        },
        "outputId": "cc8da365-7936-4bdd-9ee9-9e2dc572289d",
        "executionInfo": {
          "status": "ok",
          "timestamp": 1524617092992,
          "user_tz": 300,
          "elapsed": 6944,
          "user": {
            "displayName": "",
            "photoUrl": "",
            "userId": ""
          }
        }
      },
      "cell_type": "code",
      "source": [
        "!mkdir -p sample_data/itunes-amazon\n",
        "!wget -qnc -P sample_data/itunes-amazon https://raw.githubusercontent.com/sidharthms/deepmatcher/master/examples/sample_data/itunes-amazon/train.csv\n",
        "!wget -qnc -P sample_data/itunes-amazon https://raw.githubusercontent.com/sidharthms/deepmatcher/master/examples/sample_data/itunes-amazon/validation.csv\n",
        "!wget -qnc -P sample_data/itunes-amazon https://raw.githubusercontent.com/sidharthms/deepmatcher/master/examples/sample_data/itunes-amazon/test.csv\n",
        "!wget -qnc -P sample_data/itunes-amazon https://raw.githubusercontent.com/sidharthms/deepmatcher/master/examples/sample_data/itunes-amazon/unlabeled.csv"
      ],
      "execution_count": 4,
      "outputs": []
    },
    {
      "metadata": {
        "id": "lu6QgmbDQJOv",
        "colab_type": "text"
      },
      "cell_type": "markdown",
      "source": [
        "To get an idea of how our data looks like, let's take a peek at the training dataset:"
      ]
    },
    {
      "metadata": {
        "id": "lpsH6NEZQJOw",
        "colab_type": "code",
        "colab": {
          "autoexec": {
            "startup": false,
            "wait_interval": 0
          },
          "base_uri": "https://localhost:8080/",
          "height": 425
        },
        "outputId": "358b276f-f91a-412b-ea2f-54fc567b8a36",
        "executionInfo": {
          "status": "ok",
          "timestamp": 1524617124996,
          "user_tz": 300,
          "elapsed": 314,
          "user": {
            "displayName": "",
            "photoUrl": "",
            "userId": ""
          }
        }
      },
      "cell_type": "code",
      "source": [
        "import pandas as pd\n",
        "pd.read_csv('sample_data/itunes-amazon/train.csv').head()"
      ],
      "execution_count": 5,
      "outputs": [
        {
          "output_type": "execute_result",
          "data": {
            "text/html": [
              "<div>\n",
              "<style scoped>\n",
              "    .dataframe tbody tr th:only-of-type {\n",
              "        vertical-align: middle;\n",
              "    }\n",
              "\n",
              "    .dataframe tbody tr th {\n",
              "        vertical-align: top;\n",
              "    }\n",
              "\n",
              "    .dataframe thead th {\n",
              "        text-align: right;\n",
              "    }\n",
              "</style>\n",
              "<table border=\"1\" class=\"dataframe\">\n",
              "  <thead>\n",
              "    <tr style=\"text-align: right;\">\n",
              "      <th></th>\n",
              "      <th>id</th>\n",
              "      <th>left_id</th>\n",
              "      <th>right_id</th>\n",
              "      <th>label</th>\n",
              "      <th>left_Song_Name</th>\n",
              "      <th>left_Artist_Name</th>\n",
              "      <th>left_Album_Name</th>\n",
              "      <th>left_Genre</th>\n",
              "      <th>left_Price</th>\n",
              "      <th>left_CopyRight</th>\n",
              "      <th>left_Time</th>\n",
              "      <th>left_Released</th>\n",
              "      <th>right_Song_Name</th>\n",
              "      <th>right_Artist_Name</th>\n",
              "      <th>right_Album_Name</th>\n",
              "      <th>right_Genre</th>\n",
              "      <th>right_Price</th>\n",
              "      <th>right_CopyRight</th>\n",
              "      <th>right_Time</th>\n",
              "      <th>right_Released</th>\n",
              "    </tr>\n",
              "  </thead>\n",
              "  <tbody>\n",
              "    <tr>\n",
              "      <th>0</th>\n",
              "      <td>448</td>\n",
              "      <td>5073</td>\n",
              "      <td>34877</td>\n",
              "      <td>0</td>\n",
              "      <td>Baby When the Light ( David Guetta &amp; Fred Rist...</td>\n",
              "      <td>David Guetta</td>\n",
              "      <td>Pop Life ( Extended Version ) [ Bonus Version ]</td>\n",
              "      <td>Dance , Music , Rock , Pop , House , Electroni...</td>\n",
              "      <td>$ 1.29</td>\n",
              "      <td>‰ ãÑ 2007 Gum Records</td>\n",
              "      <td>6:17</td>\n",
              "      <td>18-Sep-07</td>\n",
              "      <td>Revolver ( Madonna Vs. David Guetta Feat . Lil...</td>\n",
              "      <td>David Guetta</td>\n",
              "      <td>One Love ( Deluxe Version )</td>\n",
              "      <td>Dance &amp; Electronic</td>\n",
              "      <td>$ 1.29</td>\n",
              "      <td>( C ) 2014 Swedish House Mafia Holdings Ltd ( ...</td>\n",
              "      <td>3:18</td>\n",
              "      <td>August 21 , 2009</td>\n",
              "    </tr>\n",
              "    <tr>\n",
              "      <th>1</th>\n",
              "      <td>287</td>\n",
              "      <td>2834</td>\n",
              "      <td>53255</td>\n",
              "      <td>1</td>\n",
              "      <td>Outversion</td>\n",
              "      <td>Mark Ronson</td>\n",
              "      <td>Version</td>\n",
              "      <td>Pop , Music , R&amp;B / Soul,Soul,Dance,Rock,Jazz,...</td>\n",
              "      <td>$ 0.99</td>\n",
              "      <td>2007 Mark Ronson under exclusive license to SO...</td>\n",
              "      <td>1:50</td>\n",
              "      <td>10-Jul-07</td>\n",
              "      <td>Outversion</td>\n",
              "      <td>Mark Ronson</td>\n",
              "      <td>Version [ Explicit ]</td>\n",
              "      <td>Pop</td>\n",
              "      <td>$ 0.99</td>\n",
              "      <td>( c ) 2011 J'adore Records</td>\n",
              "      <td>1:50</td>\n",
              "      <td>July 10 , 2007</td>\n",
              "    </tr>\n",
              "    <tr>\n",
              "      <th>2</th>\n",
              "      <td>534</td>\n",
              "      <td>6866</td>\n",
              "      <td>13587</td>\n",
              "      <td>0</td>\n",
              "      <td>Peer Pressure ( feat . Traci Nelson )</td>\n",
              "      <td>Snoop Dogg</td>\n",
              "      <td>Doggumentary</td>\n",
              "      <td>Hip-Hop/Rap , Music , Rock , Gangsta Rap , Wes...</td>\n",
              "      <td>$ 1.29</td>\n",
              "      <td>‰ ãÑ 2011 Capitol Records , LLC . All rights r...</td>\n",
              "      <td>4:07</td>\n",
              "      <td>29-Mar-11</td>\n",
              "      <td>Boom ( ( Feat . T-Pain ) [ Edited ] )</td>\n",
              "      <td>Snoop Dogg</td>\n",
              "      <td>Doggumentary [ Edited ]</td>\n",
              "      <td>Rap &amp; Hip-Hop , West Coast</td>\n",
              "      <td>$ 1.29</td>\n",
              "      <td>( C ) 2011 Capitol Records , LLC</td>\n",
              "      <td>3:50</td>\n",
              "      <td>March 29 , 2011</td>\n",
              "    </tr>\n",
              "    <tr>\n",
              "      <th>3</th>\n",
              "      <td>181</td>\n",
              "      <td>1358</td>\n",
              "      <td>42278</td>\n",
              "      <td>1</td>\n",
              "      <td>Stars Come Out ( Tim Mason Remix )</td>\n",
              "      <td>Zedd</td>\n",
              "      <td>Stars Come Out ( Remixes ) - EP</td>\n",
              "      <td>Dance , Music , Electronic , House</td>\n",
              "      <td>$ 1.29</td>\n",
              "      <td>2012 Dim Mak Inc.</td>\n",
              "      <td>5:49</td>\n",
              "      <td>20-May-14</td>\n",
              "      <td>Stars Come Out ( Dillon Francis Remix )</td>\n",
              "      <td>Zedd</td>\n",
              "      <td>Stars Come Out [ Dillon Francis Remix ]</td>\n",
              "      <td>Dance &amp; Electronic</td>\n",
              "      <td>$ 1.29</td>\n",
              "      <td>2012 Dim Mak Inc.</td>\n",
              "      <td>4:08</td>\n",
              "      <td>May 20 , 2014</td>\n",
              "    </tr>\n",
              "    <tr>\n",
              "      <th>4</th>\n",
              "      <td>485</td>\n",
              "      <td>5695</td>\n",
              "      <td>37659</td>\n",
              "      <td>0</td>\n",
              "      <td>Jump ( feat . Nelly Furtado )</td>\n",
              "      <td>Flo Rida</td>\n",
              "      <td>R.O.O.T.S. ( Deluxe Version )</td>\n",
              "      <td>Hip-Hop/Rap , Music</td>\n",
              "      <td>$ 1.29</td>\n",
              "      <td>‰ ãÑ 2009 Atlantic Recording Corporation for t...</td>\n",
              "      <td>3:28</td>\n",
              "      <td>30-Mar-09</td>\n",
              "      <td>Yayo [ Feat . Brisco , Billy Blue , Ball Greez...</td>\n",
              "      <td>Flo Rida</td>\n",
              "      <td>R.O.O.T.S. ( Route Of Overcoming The Struggle ...</td>\n",
              "      <td>Rap &amp; Hip-Hop</td>\n",
              "      <td>$ 1.29</td>\n",
              "      <td>( C ) 2012 Motown Records , a Division of UMG ...</td>\n",
              "      <td>7:53</td>\n",
              "      <td>March 30 , 2009</td>\n",
              "    </tr>\n",
              "  </tbody>\n",
              "</table>\n",
              "</div>"
            ],
            "text/plain": [
              "    id  left_id  right_id  label  \\\n",
              "0  448     5073     34877      0   \n",
              "1  287     2834     53255      1   \n",
              "2  534     6866     13587      0   \n",
              "3  181     1358     42278      1   \n",
              "4  485     5695     37659      0   \n",
              "\n",
              "                                      left_Song_Name left_Artist_Name  \\\n",
              "0  Baby When the Light ( David Guetta & Fred Rist...     David Guetta   \n",
              "1                                         Outversion      Mark Ronson   \n",
              "2              Peer Pressure ( feat . Traci Nelson )       Snoop Dogg   \n",
              "3                 Stars Come Out ( Tim Mason Remix )             Zedd   \n",
              "4                      Jump ( feat . Nelly Furtado )         Flo Rida   \n",
              "\n",
              "                                   left_Album_Name  \\\n",
              "0  Pop Life ( Extended Version ) [ Bonus Version ]   \n",
              "1                                          Version   \n",
              "2                                     Doggumentary   \n",
              "3                  Stars Come Out ( Remixes ) - EP   \n",
              "4                    R.O.O.T.S. ( Deluxe Version )   \n",
              "\n",
              "                                          left_Genre left_Price  \\\n",
              "0  Dance , Music , Rock , Pop , House , Electroni...     $ 1.29   \n",
              "1  Pop , Music , R&B / Soul,Soul,Dance,Rock,Jazz,...     $ 0.99   \n",
              "2  Hip-Hop/Rap , Music , Rock , Gangsta Rap , Wes...     $ 1.29   \n",
              "3                 Dance , Music , Electronic , House     $ 1.29   \n",
              "4                                Hip-Hop/Rap , Music     $ 1.29   \n",
              "\n",
              "                                      left_CopyRight left_Time left_Released  \\\n",
              "0                              ‰ ãÑ 2007 Gum Records      6:17     18-Sep-07   \n",
              "1  2007 Mark Ronson under exclusive license to SO...      1:50     10-Jul-07   \n",
              "2  ‰ ãÑ 2011 Capitol Records , LLC . All rights r...      4:07     29-Mar-11   \n",
              "3                                  2012 Dim Mak Inc.      5:49     20-May-14   \n",
              "4  ‰ ãÑ 2009 Atlantic Recording Corporation for t...      3:28     30-Mar-09   \n",
              "\n",
              "                                     right_Song_Name right_Artist_Name  \\\n",
              "0  Revolver ( Madonna Vs. David Guetta Feat . Lil...      David Guetta   \n",
              "1                                         Outversion       Mark Ronson   \n",
              "2              Boom ( ( Feat . T-Pain ) [ Edited ] )        Snoop Dogg   \n",
              "3            Stars Come Out ( Dillon Francis Remix )              Zedd   \n",
              "4  Yayo [ Feat . Brisco , Billy Blue , Ball Greez...          Flo Rida   \n",
              "\n",
              "                                    right_Album_Name  \\\n",
              "0                        One Love ( Deluxe Version )   \n",
              "1                               Version [ Explicit ]   \n",
              "2                            Doggumentary [ Edited ]   \n",
              "3            Stars Come Out [ Dillon Francis Remix ]   \n",
              "4  R.O.O.T.S. ( Route Of Overcoming The Struggle ...   \n",
              "\n",
              "                  right_Genre right_Price  \\\n",
              "0          Dance & Electronic      $ 1.29   \n",
              "1                         Pop      $ 0.99   \n",
              "2  Rap & Hip-Hop , West Coast      $ 1.29   \n",
              "3          Dance & Electronic      $ 1.29   \n",
              "4               Rap & Hip-Hop      $ 1.29   \n",
              "\n",
              "                                     right_CopyRight right_Time  \\\n",
              "0  ( C ) 2014 Swedish House Mafia Holdings Ltd ( ...       3:18   \n",
              "1                         ( c ) 2011 J'adore Records       1:50   \n",
              "2                   ( C ) 2011 Capitol Records , LLC       3:50   \n",
              "3                                  2012 Dim Mak Inc.       4:08   \n",
              "4  ( C ) 2012 Motown Records , a Division of UMG ...       7:53   \n",
              "\n",
              "     right_Released  \n",
              "0  August 21 , 2009  \n",
              "1    July 10 , 2007  \n",
              "2   March 29 , 2011  \n",
              "3     May 20 , 2014  \n",
              "4   March 30 , 2009  "
            ]
          },
          "metadata": {
            "tags": []
          },
          "execution_count": 5
        }
      ]
    },
    {
      "metadata": {
        "id": "KuCrlwjeQs8i",
        "colab_type": "text"
      },
      "cell_type": "markdown",
      "source": [
        "## Step 1. Process labeled data\n",
        "\n",
        "Before we can use our data for training, `deepmatcher` needs to first load and process it in order to prepare it for neural network training. Currently `deepmatcher` only supports processing CSV files. Each CSV file is assumed to have the following kinds of columns:\n",
        "\n",
        "* **\"Left\" attributes (required):** Our goal is to match tuple pairs. \"Left\" attributes are columns that correspond to the \"left\" tuple or the first tuple in the tuple pair. These column names are expected to be prefixed with \"left_\" by default.\n",
        "* **\"Right\" attributes (required):** \"Right\" attributes are columns that correspond to the \"right\" tuple or the second tuple in the tuple pair. These column names are expected to be prefixed with \"right_\" by default.\n",
        "* **Label column (required for train, validation, test):** Column containing the labels (match or non-match) for each tuple pair. Expected to be named \"label\" by default\n",
        "* **ID column (required):** Column containing a unique ID for each tuple pair. This is for evaluation convenience.  Expected to be named \"id\" by default.\n",
        "\n",
        "More details on what data processing involves and ways to customize it are described in **[this notebook](https://nbviewer.jupyter.org/github/sidharthms/deepmatcher/blob/master/examples/data_processing.ipynb)**. \n",
        "\n",
        "### Processing labeled data\n",
        "In order to process our train, validation and test CSV files we call `dm.data.process` in the following code snippet which will load and process the CSV files and return three processed `MatchingDataset` objects respectively. These dataset objects will later be used for training and evaluation. The basic parameters to `dm.data.process` are as follows:\n",
        "\n",
        "* **path (required): ** The path where all data is stored. This includes train, validation and test. `deepmatcher` may create new files in this directory to store information about these data sets. This allows subsequent `dm.data.process` calls to be much faster.\n",
        "* **train (required): ** File name of training data in `path` directory.\n",
        "* **validation (required): ** File name of validation data in `path` directory.\n",
        "* **test (optional): ** File name of test data in `path` directory.\n",
        "* **ignore_columns (optional): ** Any columns in the CSV files that you may want to ignore for the purposes of training. These should be included here. \n",
        "\n",
        "Note that the train, validation and test CSVs must all share the same schema, i.e., they should have the same columns. Processing data involves several steps and can take several minutes to complete, especially if this is the first time you are running the `deepmatcher` package.\n",
        "\n",
        "NOTE: If you are running this in Colab, you may get a message saying 'Memory usage is close to the limit.' You can safely ignore it for now. We are working on reducing the memory footprint."
      ]
    },
    {
      "metadata": {
        "id": "WJ37wi1HC9EJ",
        "colab_type": "code",
        "colab": {
          "autoexec": {
            "startup": false,
            "wait_interval": 0
          },
          "base_uri": "https://localhost:8080/",
          "height": 227
        },
        "outputId": "6c19622b-1d60-4e01-e810-6ad99173040c",
        "executionInfo": {
          "status": "ok",
          "timestamp": 1524617249949,
          "user_tz": 300,
          "elapsed": 120549,
          "user": {
            "displayName": "",
            "photoUrl": "",
            "userId": ""
          }
        }
      },
      "cell_type": "code",
      "source": [
        "train, validation, test = dm.data.process(\n",
        "    path='sample_data/itunes-amazon',\n",
        "    train='train.csv',\n",
        "    validation='validation.csv',\n",
        "    test='test.csv',\n",
        "    ignore_columns=('left_id', 'right_id'))"
      ],
      "execution_count": 6,
      "outputs": [
        {
          "output_type": "stream",
          "text": [
            "INFO:deepmatcher.data.field:Downloading vectors from https://drive.google.com/uc?export=download&id=1Vih8gAmgBnuYDxfblbT94P6WjB7s1ZSh\n"
          ],
          "name": "stderr"
        },
        {
          "output_type": "stream",
          "text": [
            "Load time: 1.1070073630000365\n",
            "downloading from Google Drive; may take a few minutes\n"
          ],
          "name": "stdout"
        },
        {
          "output_type": "stream",
          "text": [
            "/usr/local/lib/python3.6/dist-packages/deepmatcher/data/field.py:62: ResourceWarning: unclosed <ssl.SSLSocket fd=64, family=AddressFamily.AF_INET, type=SocketKind.SOCK_STREAM, proto=6, laddr=('172.17.0.2', 44956), raddr=('74.125.197.138', 443)>\n",
            "  download_from_url(url, self.destination)\n",
            "/usr/local/lib/python3.6/dist-packages/deepmatcher/data/field.py:62: ResourceWarning: unclosed <ssl.SSLSocket fd=65, family=AddressFamily.AF_INET, type=SocketKind.SOCK_STREAM, proto=6, laddr=('172.17.0.2', 46304), raddr=('74.125.197.132', 443)>\n",
            "  download_from_url(url, self.destination)\n",
            "INFO:deepmatcher.data.field:Extracting vectors into /content/.vector_cache\n"
          ],
          "name": "stderr"
        },
        {
          "output_type": "stream",
          "text": [
            "Vocab time: 117.61075533899998\n",
            "Metadata time: 0.7012989679999464\n",
            "Cache time: 0.7771342040000491\n"
          ],
          "name": "stdout"
        }
      ]
    },
    {
      "metadata": {
        "id": "4RCEIm8MQJO3",
        "colab_type": "text"
      },
      "cell_type": "markdown",
      "source": [
        "#### Peeking at processed data\n",
        "Let's take a look at how the processed data looks like. To do this, we get the raw `pandas` table corresponding to the processed training dataset object. "
      ]
    },
    {
      "metadata": {
        "id": "qmkzAzWOQJO3",
        "colab_type": "code",
        "colab": {
          "autoexec": {
            "startup": false,
            "wait_interval": 0
          },
          "base_uri": "https://localhost:8080/",
          "height": 460
        },
        "outputId": "35aed066-c9d9-406b-e6cc-ce7dcd27029a",
        "executionInfo": {
          "status": "ok",
          "timestamp": 1524617336979,
          "user_tz": 300,
          "elapsed": 333,
          "user": {
            "displayName": "",
            "photoUrl": "",
            "userId": ""
          }
        }
      },
      "cell_type": "code",
      "source": [
        "train_table = train.get_raw_table()\n",
        "train_table.head()"
      ],
      "execution_count": 7,
      "outputs": [
        {
          "output_type": "execute_result",
          "data": {
            "text/html": [
              "<div>\n",
              "<style scoped>\n",
              "    .dataframe tbody tr th:only-of-type {\n",
              "        vertical-align: middle;\n",
              "    }\n",
              "\n",
              "    .dataframe tbody tr th {\n",
              "        vertical-align: top;\n",
              "    }\n",
              "\n",
              "    .dataframe thead th {\n",
              "        text-align: right;\n",
              "    }\n",
              "</style>\n",
              "<table border=\"1\" class=\"dataframe\">\n",
              "  <thead>\n",
              "    <tr style=\"text-align: right;\">\n",
              "      <th></th>\n",
              "      <th>id</th>\n",
              "      <th>label</th>\n",
              "      <th>left_Song_Name</th>\n",
              "      <th>left_Artist_Name</th>\n",
              "      <th>left_Album_Name</th>\n",
              "      <th>left_Genre</th>\n",
              "      <th>left_Price</th>\n",
              "      <th>left_CopyRight</th>\n",
              "      <th>left_Time</th>\n",
              "      <th>left_Released</th>\n",
              "      <th>right_Song_Name</th>\n",
              "      <th>right_Artist_Name</th>\n",
              "      <th>right_Album_Name</th>\n",
              "      <th>right_Genre</th>\n",
              "      <th>right_Price</th>\n",
              "      <th>right_CopyRight</th>\n",
              "      <th>right_Time</th>\n",
              "      <th>right_Released</th>\n",
              "    </tr>\n",
              "  </thead>\n",
              "  <tbody>\n",
              "    <tr>\n",
              "      <th>0</th>\n",
              "      <td>448</td>\n",
              "      <td>0</td>\n",
              "      <td>baby when the light ( david guetta &amp;amp; fred ...</td>\n",
              "      <td>david guetta</td>\n",
              "      <td>pop life ( extended version ) &amp;#91; bonus vers...</td>\n",
              "      <td>dance , music , rock , pop , house , electroni...</td>\n",
              "      <td>$ 1.29</td>\n",
              "      <td>‰ ãñ 2007 gum records</td>\n",
              "      <td>6 : 17</td>\n",
              "      <td>18-sep-07</td>\n",
              "      <td>revolver ( madonna vs . david guetta feat . li...</td>\n",
              "      <td>david guetta</td>\n",
              "      <td>one love ( deluxe version )</td>\n",
              "      <td>dance &amp;amp; electronic</td>\n",
              "      <td>$ 1.29</td>\n",
              "      <td>( c ) 2014 swedish house mafia holdings ltd ( ...</td>\n",
              "      <td>3 : 18</td>\n",
              "      <td>august 21 , 2009</td>\n",
              "    </tr>\n",
              "    <tr>\n",
              "      <th>1</th>\n",
              "      <td>287</td>\n",
              "      <td>1</td>\n",
              "      <td>outversion</td>\n",
              "      <td>mark ronson</td>\n",
              "      <td>version</td>\n",
              "      <td>pop , music , r &amp;amp; b / soul , soul , dance ...</td>\n",
              "      <td>$ 0.99</td>\n",
              "      <td>2007 mark ronson under exclusive license to so...</td>\n",
              "      <td>1 : 50</td>\n",
              "      <td>10-jul-07</td>\n",
              "      <td>outversion</td>\n",
              "      <td>mark ronson</td>\n",
              "      <td>version &amp;#91; explicit &amp;#93;</td>\n",
              "      <td>pop</td>\n",
              "      <td>$ 0.99</td>\n",
              "      <td>( c ) 2011 j &amp;apos;adore records</td>\n",
              "      <td>1 : 50</td>\n",
              "      <td>july 10 , 2007</td>\n",
              "    </tr>\n",
              "    <tr>\n",
              "      <th>2</th>\n",
              "      <td>534</td>\n",
              "      <td>0</td>\n",
              "      <td>peer pressure ( feat . traci nelson )</td>\n",
              "      <td>snoop dogg</td>\n",
              "      <td>doggumentary</td>\n",
              "      <td>hip-hop / rap , music , rock , gangsta rap , w...</td>\n",
              "      <td>$ 1.29</td>\n",
              "      <td>‰ ãñ 2011 capitol records , llc . all rights r...</td>\n",
              "      <td>4 : 07</td>\n",
              "      <td>29-mar-11</td>\n",
              "      <td>boom ( ( feat . t-pain ) &amp;#91; edited &amp;#93; )</td>\n",
              "      <td>snoop dogg</td>\n",
              "      <td>doggumentary &amp;#91; edited &amp;#93;</td>\n",
              "      <td>rap &amp;amp; hip-hop , west coast</td>\n",
              "      <td>$ 1.29</td>\n",
              "      <td>( c ) 2011 capitol records , llc</td>\n",
              "      <td>3 : 50</td>\n",
              "      <td>march 29 , 2011</td>\n",
              "    </tr>\n",
              "    <tr>\n",
              "      <th>3</th>\n",
              "      <td>181</td>\n",
              "      <td>1</td>\n",
              "      <td>stars come out ( tim mason remix )</td>\n",
              "      <td>zedd</td>\n",
              "      <td>stars come out ( remixes ) - ep</td>\n",
              "      <td>dance , music , electronic , house</td>\n",
              "      <td>$ 1.29</td>\n",
              "      <td>2012 dim mak inc .</td>\n",
              "      <td>5 : 49</td>\n",
              "      <td>20-may-14</td>\n",
              "      <td>stars come out ( dillon francis remix )</td>\n",
              "      <td>zedd</td>\n",
              "      <td>stars come out &amp;#91; dillon francis remix &amp;#93;</td>\n",
              "      <td>dance &amp;amp; electronic</td>\n",
              "      <td>$ 1.29</td>\n",
              "      <td>2012 dim mak inc .</td>\n",
              "      <td>4 : 08</td>\n",
              "      <td>may 20 , 2014</td>\n",
              "    </tr>\n",
              "    <tr>\n",
              "      <th>4</th>\n",
              "      <td>485</td>\n",
              "      <td>0</td>\n",
              "      <td>jump ( feat . nelly furtado )</td>\n",
              "      <td>flo rida</td>\n",
              "      <td>r.o.o.t.s . ( deluxe version )</td>\n",
              "      <td>hip-hop / rap , music</td>\n",
              "      <td>$ 1.29</td>\n",
              "      <td>‰ ãñ 2009 atlantic recording corporation for t...</td>\n",
              "      <td>3 : 28</td>\n",
              "      <td>30-mar-09</td>\n",
              "      <td>yayo &amp;#91; feat . brisco , billy blue , ball g...</td>\n",
              "      <td>flo rida</td>\n",
              "      <td>r.o.o.t.s . ( route of overcoming the struggle...</td>\n",
              "      <td>rap &amp;amp; hip-hop</td>\n",
              "      <td>$ 1.29</td>\n",
              "      <td>( c ) 2012 motown records , a division of umg ...</td>\n",
              "      <td>7 : 53</td>\n",
              "      <td>march 30 , 2009</td>\n",
              "    </tr>\n",
              "  </tbody>\n",
              "</table>\n",
              "</div>"
            ],
            "text/plain": [
              "    id  label                                     left_Song_Name  \\\n",
              "0  448      0  baby when the light ( david guetta &amp; fred ...   \n",
              "1  287      1                                         outversion   \n",
              "2  534      0              peer pressure ( feat . traci nelson )   \n",
              "3  181      1                 stars come out ( tim mason remix )   \n",
              "4  485      0                      jump ( feat . nelly furtado )   \n",
              "\n",
              "  left_Artist_Name                                    left_Album_Name  \\\n",
              "0     david guetta  pop life ( extended version ) &#91; bonus vers...   \n",
              "1      mark ronson                                            version   \n",
              "2       snoop dogg                                       doggumentary   \n",
              "3             zedd                    stars come out ( remixes ) - ep   \n",
              "4         flo rida                     r.o.o.t.s . ( deluxe version )   \n",
              "\n",
              "                                          left_Genre left_Price  \\\n",
              "0  dance , music , rock , pop , house , electroni...     $ 1.29   \n",
              "1  pop , music , r &amp; b / soul , soul , dance ...     $ 0.99   \n",
              "2  hip-hop / rap , music , rock , gangsta rap , w...     $ 1.29   \n",
              "3                 dance , music , electronic , house     $ 1.29   \n",
              "4                              hip-hop / rap , music     $ 1.29   \n",
              "\n",
              "                                      left_CopyRight left_Time left_Released  \\\n",
              "0                              ‰ ãñ 2007 gum records    6 : 17     18-sep-07   \n",
              "1  2007 mark ronson under exclusive license to so...    1 : 50     10-jul-07   \n",
              "2  ‰ ãñ 2011 capitol records , llc . all rights r...    4 : 07     29-mar-11   \n",
              "3                                 2012 dim mak inc .    5 : 49     20-may-14   \n",
              "4  ‰ ãñ 2009 atlantic recording corporation for t...    3 : 28     30-mar-09   \n",
              "\n",
              "                                     right_Song_Name right_Artist_Name  \\\n",
              "0  revolver ( madonna vs . david guetta feat . li...      david guetta   \n",
              "1                                         outversion       mark ronson   \n",
              "2      boom ( ( feat . t-pain ) &#91; edited &#93; )        snoop dogg   \n",
              "3            stars come out ( dillon francis remix )              zedd   \n",
              "4  yayo &#91; feat . brisco , billy blue , ball g...          flo rida   \n",
              "\n",
              "                                    right_Album_Name  \\\n",
              "0                        one love ( deluxe version )   \n",
              "1                       version &#91; explicit &#93;   \n",
              "2                    doggumentary &#91; edited &#93;   \n",
              "3    stars come out &#91; dillon francis remix &#93;   \n",
              "4  r.o.o.t.s . ( route of overcoming the struggle...   \n",
              "\n",
              "                      right_Genre right_Price  \\\n",
              "0          dance &amp; electronic      $ 1.29   \n",
              "1                             pop      $ 0.99   \n",
              "2  rap &amp; hip-hop , west coast      $ 1.29   \n",
              "3          dance &amp; electronic      $ 1.29   \n",
              "4               rap &amp; hip-hop      $ 1.29   \n",
              "\n",
              "                                     right_CopyRight right_Time  \\\n",
              "0  ( c ) 2014 swedish house mafia holdings ltd ( ...     3 : 18   \n",
              "1                   ( c ) 2011 j &apos;adore records     1 : 50   \n",
              "2                   ( c ) 2011 capitol records , llc     3 : 50   \n",
              "3                                 2012 dim mak inc .     4 : 08   \n",
              "4  ( c ) 2012 motown records , a division of umg ...     7 : 53   \n",
              "\n",
              "     right_Released  \n",
              "0  august 21 , 2009  \n",
              "1    july 10 , 2007  \n",
              "2   march 29 , 2011  \n",
              "3     may 20 , 2014  \n",
              "4   march 30 , 2009  "
            ]
          },
          "metadata": {
            "tags": []
          },
          "execution_count": 7
        }
      ]
    },
    {
      "metadata": {
        "id": "hpo4JpshQJO6",
        "colab_type": "text"
      },
      "cell_type": "markdown",
      "source": [
        "The processed attribute values have been tokenized and lowercased so they may not look exactly the same as the input training data. These modifications help the neural network generalize better, i.e., perform better on data not trained on. "
      ]
    },
    {
      "metadata": {
        "id": "8mr3oVzuQJO6",
        "colab_type": "text"
      },
      "cell_type": "markdown",
      "source": [
        "## Step 2. Define neural network model\n",
        "\n",
        "In this step you tell `deepmatcher` what kind of neural network you would like to use for entity matching. The easiest way to do this is to use one of the several kinds of neural network models that comes built-in with `deepmatcher`. To use a built-in network, construct a `dm.MatchingModel` as follows:\n",
        "\n",
        "`model = dm.MatchingModel(attr_summarizer='<TYPE>')`\n",
        "\n",
        "where `<TYPE>` is one of `sif`, `rnn`, `attention` or `hybrid`. If you are not familiar with what these mean, we strongly recommend taking a look at either **[slides from our talk on deepmatcher](http://bit.do/deepmatcher-talk)** for a high level overview, or **[our paper](http://pages.cs.wisc.edu/~anhai/papers1/deepmatcher-sigmod18.pdf)** for a more detailed explanation. Here we give briefly describe the intuition behind these four model types:\n",
        "* **sif:** This model considers the **words** present in each attribute value pair to determine a match or non-match. It does not take word order into account.\n",
        "* **rnn:** This model considers the **sequences of words** present in each attribute value pair to determine a match or non-match.\n",
        "* **attention:** This model considers the **alignment of words** present in each attribute value pair to determine a match or non-match. It does not take word order into account.\n",
        "* **hybrid:** This model considers the **alignment of sequences of words** present in each attribute value pair to determine a match or non-match.\n",
        "\n",
        "`deepmatcher` is highly customizable and allows you to tune almost every aspect of the neural network model for your application scenario. **[This tutorial](https://nbviewer.jupyter.org/github/sidharthms/deepmatcher/blob/master/examples/matching_models.ipynb)** discusses the structure of `MatchingModel`s and how they can be customized.\n",
        "\n",
        "For this tutorial, let's create a `hybrid` model for entity matching:"
      ]
    },
    {
      "metadata": {
        "id": "NwUE2jMXQJO7",
        "colab_type": "code",
        "colab": {
          "autoexec": {
            "startup": false,
            "wait_interval": 0
          },
          "base_uri": "https://localhost:8080/",
          "height": 17
        },
        "outputId": "e05a0482-944b-4a68-a1c4-32e40ba3f17a",
        "executionInfo": {
          "status": "ok",
          "timestamp": 1524617340683,
          "user_tz": 300,
          "elapsed": 234,
          "user": {
            "displayName": "",
            "photoUrl": "",
            "userId": ""
          }
        }
      },
      "cell_type": "code",
      "source": [
        "model = dm.MatchingModel(attr_summarizer='hybrid')"
      ],
      "execution_count": 8,
      "outputs": []
    },
    {
      "metadata": {
        "id": "7iLAHpuVQJO9",
        "colab_type": "text"
      },
      "cell_type": "markdown",
      "source": [
        "## Step 3. Train model\n",
        "\n",
        "Next, we train the defined neural network model using the processed training and validation data. To do so, we call the `run_train` method which takes the following basic parameters:\n",
        "\n",
        "* **train:** The processed training dataset object (of type `MatchingDataset`).\n",
        "* **validation:** The processed validation dataset object (of type `MatchingDataset`).\n",
        "* **epochs:** Number of times to go over the entire `train` data for training the model.\n",
        "* **batch_size:** Number of labeled examples (tuple pairs) to use for each training step. This value may be increased if you have a lot of training data and would like to speed up training. The optimal value is dataset dependent.\n",
        "* **best_save_path:** Path to save the best model.\n",
        "* **pos_neg_ratio**: The ratio of the weight of positive examples (matches) to weight of negative examples (non-matches). This value should be increased if you have fewer matches than non-matches in your data. The optimal value is dataset dependent.\n",
        "\n",
        "Many other aspects of the training algorithm can be customized. For details on this, please refer the API documentation for **[run_train]()**"
      ]
    },
    {
      "metadata": {
        "id": "RIZclsK1QJO-",
        "colab_type": "code",
        "colab": {
          "autoexec": {
            "startup": false,
            "wait_interval": 0
          },
          "base_uri": "https://localhost:8080/",
          "height": 2815
        },
        "outputId": "f2ce7d13-0bd4-454e-aafc-d19af02e92b0",
        "executionInfo": {
          "status": "ok",
          "timestamp": 1524617643666,
          "user_tz": 300,
          "elapsed": 297777,
          "user": {
            "displayName": "",
            "photoUrl": "",
            "userId": ""
          }
        }
      },
      "cell_type": "code",
      "source": [
        "model.run_train(\n",
        "    train,\n",
        "    validation,\n",
        "    epochs=15,\n",
        "    batch_size=16,\n",
        "    best_save_path='hybrid_model.pth',\n",
        "    pos_neg_ratio=3)"
      ],
      "execution_count": 9,
      "outputs": [
        {
          "output_type": "stream",
          "text": [
            "* Number of trainable parameters: 17757810\n",
            "===>  TRAIN Epoch 1 :\n"
          ],
          "name": "stdout"
        },
        {
          "output_type": "stream",
          "text": [
            "0% [████] 100% | ETA: 00:00:00\n",
            "Total time elapsed: 00:00:15\n"
          ],
          "name": "stderr"
        },
        {
          "output_type": "stream",
          "text": [
            "Finished Epoch 1 || Run Time:   14.4 | Load Time:    2.6 || F1:  46.84 | Prec:  45.68 | Rec:  48.05 || Ex/s:  19.09\n",
            "\n",
            "===>  EVAL Epoch 1 :\n"
          ],
          "name": "stdout"
        },
        {
          "output_type": "stream",
          "text": [
            "0% [█] 100% | ETA: 00:00:00\n",
            "Total time elapsed: 00:00:01\n"
          ],
          "name": "stderr"
        },
        {
          "output_type": "stream",
          "text": [
            "Finished Epoch 1 || Run Time:    1.7 | Load Time:    0.8 || F1:  72.73 | Prec:  64.52 | Rec:  83.33 || Ex/s:  43.03\n",
            "\n",
            "* Best F1: 72.72727272727272\n",
            "Saving best model...\n",
            "===>  TRAIN Epoch 2 :\n"
          ],
          "name": "stdout"
        },
        {
          "output_type": "stream",
          "text": [
            "0% [████] 100% | ETA: 00:00:00\n",
            "Total time elapsed: 00:00:15\n"
          ],
          "name": "stderr"
        },
        {
          "output_type": "stream",
          "text": [
            "Finished Epoch 2 || Run Time:   13.9 | Load Time:    2.6 || F1:  84.39 | Prec:  76.04 | Rec:  94.81 || Ex/s:  19.57\n",
            "\n",
            "===>  EVAL Epoch 2 :\n"
          ],
          "name": "stdout"
        },
        {
          "output_type": "stream",
          "text": [
            "0% [█] 100% | ETA: 00:00:00\n",
            "Total time elapsed: 00:00:01\n"
          ],
          "name": "stderr"
        },
        {
          "output_type": "stream",
          "text": [
            "Finished Epoch 2 || Run Time:    1.7 | Load Time:    0.8 || F1:  81.48 | Prec:  73.33 | Rec:  91.67 || Ex/s:  42.88\n",
            "\n",
            "* Best F1: 81.48148148148148\n",
            "Saving best model...\n",
            "===>  TRAIN Epoch 3 :\n"
          ],
          "name": "stdout"
        },
        {
          "output_type": "stream",
          "text": [
            "0% [████] 100% | ETA: 00:00:00\n",
            "Total time elapsed: 00:00:15\n"
          ],
          "name": "stderr"
        },
        {
          "output_type": "stream",
          "text": [
            "Finished Epoch 3 || Run Time:   14.0 | Load Time:    2.6 || F1:  94.94 | Prec:  92.59 | Rec:  97.40 || Ex/s:  19.53\n",
            "\n",
            "===>  EVAL Epoch 3 :\n"
          ],
          "name": "stdout"
        },
        {
          "output_type": "stream",
          "text": [
            "0% [█] 100% | ETA: 00:00:00\n",
            "Total time elapsed: 00:00:01\n"
          ],
          "name": "stderr"
        },
        {
          "output_type": "stream",
          "text": [
            "Finished Epoch 3 || Run Time:    1.7 | Load Time:    0.8 || F1:  86.27 | Prec:  81.48 | Rec:  91.67 || Ex/s:  42.62\n",
            "\n",
            "* Best F1: 86.27450980392157\n",
            "Saving best model...\n",
            "===>  TRAIN Epoch 4 :\n"
          ],
          "name": "stdout"
        },
        {
          "output_type": "stream",
          "text": [
            "0% [████] 100% | ETA: 00:00:00\n",
            "Total time elapsed: 00:00:15\n"
          ],
          "name": "stderr"
        },
        {
          "output_type": "stream",
          "text": [
            "Finished Epoch 4 || Run Time:   13.9 | Load Time:    2.6 || F1:  98.06 | Prec:  97.44 | Rec:  98.70 || Ex/s:  19.59\n",
            "\n",
            "===>  EVAL Epoch 4 :\n"
          ],
          "name": "stdout"
        },
        {
          "output_type": "stream",
          "text": [
            "0% [█] 100% | ETA: 00:00:00\n",
            "Total time elapsed: 00:00:01\n"
          ],
          "name": "stderr"
        },
        {
          "output_type": "stream",
          "text": [
            "Finished Epoch 4 || Run Time:    1.7 | Load Time:    0.8 || F1:  84.62 | Prec:  78.57 | Rec:  91.67 || Ex/s:  42.86\n",
            "\n",
            "===>  TRAIN Epoch 5 :\n"
          ],
          "name": "stdout"
        },
        {
          "output_type": "stream",
          "text": [
            "0% [████] 100% | ETA: 00:00:00\n",
            "Total time elapsed: 00:00:15\n"
          ],
          "name": "stderr"
        },
        {
          "output_type": "stream",
          "text": [
            "Finished Epoch 5 || Run Time:   13.9 | Load Time:    2.6 || F1:  98.70 | Prec:  98.70 | Rec:  98.70 || Ex/s:  19.57\n",
            "\n",
            "===>  EVAL Epoch 5 :\n"
          ],
          "name": "stdout"
        },
        {
          "output_type": "stream",
          "text": [
            "0% [█] 100% | ETA: 00:00:00\n",
            "Total time elapsed: 00:00:01\n"
          ],
          "name": "stderr"
        },
        {
          "output_type": "stream",
          "text": [
            "Finished Epoch 5 || Run Time:    1.7 | Load Time:    0.8 || F1:  86.27 | Prec:  81.48 | Rec:  91.67 || Ex/s:  42.74\n",
            "\n",
            "===>  TRAIN Epoch 6 :\n"
          ],
          "name": "stdout"
        },
        {
          "output_type": "stream",
          "text": [
            "0% [████] 100% | ETA: 00:00:00\n",
            "Total time elapsed: 00:00:15\n"
          ],
          "name": "stderr"
        },
        {
          "output_type": "stream",
          "text": [
            "Finished Epoch 6 || Run Time:   14.0 | Load Time:    2.6 || F1: 100.00 | Prec: 100.00 | Rec: 100.00 || Ex/s:  19.54\n",
            "\n",
            "===>  EVAL Epoch 6 :\n"
          ],
          "name": "stdout"
        },
        {
          "output_type": "stream",
          "text": [
            "0% [█] 100% | ETA: 00:00:00\n",
            "Total time elapsed: 00:00:01\n"
          ],
          "name": "stderr"
        },
        {
          "output_type": "stream",
          "text": [
            "Finished Epoch 6 || Run Time:    1.7 | Load Time:    0.8 || F1:  88.00 | Prec:  84.62 | Rec:  91.67 || Ex/s:  42.67\n",
            "\n",
            "* Best F1: 88.00000000000001\n",
            "Saving best model...\n",
            "===>  TRAIN Epoch 7 :\n"
          ],
          "name": "stdout"
        },
        {
          "output_type": "stream",
          "text": [
            "0% [████] 100% | ETA: 00:00:00\n",
            "Total time elapsed: 00:00:15\n"
          ],
          "name": "stderr"
        },
        {
          "output_type": "stream",
          "text": [
            "Finished Epoch 7 || Run Time:   13.9 | Load Time:    2.6 || F1: 100.00 | Prec: 100.00 | Rec: 100.00 || Ex/s:  19.62\n",
            "\n",
            "===>  EVAL Epoch 7 :\n"
          ],
          "name": "stdout"
        },
        {
          "output_type": "stream",
          "text": [
            "0% [█] 100% | ETA: 00:00:00\n",
            "Total time elapsed: 00:00:01\n"
          ],
          "name": "stderr"
        },
        {
          "output_type": "stream",
          "text": [
            "Finished Epoch 7 || Run Time:    1.7 | Load Time:    0.8 || F1:  91.67 | Prec:  91.67 | Rec:  91.67 || Ex/s:  42.78\n",
            "\n",
            "* Best F1: 91.66666666666667\n",
            "Saving best model...\n",
            "===>  TRAIN Epoch 8 :\n"
          ],
          "name": "stdout"
        },
        {
          "output_type": "stream",
          "text": [
            "0% [████] 100% | ETA: 00:00:00\n",
            "Total time elapsed: 00:00:15\n"
          ],
          "name": "stderr"
        },
        {
          "output_type": "stream",
          "text": [
            "Finished Epoch 8 || Run Time:   14.0 | Load Time:    2.6 || F1: 100.00 | Prec: 100.00 | Rec: 100.00 || Ex/s:  19.51\n",
            "\n",
            "===>  EVAL Epoch 8 :\n"
          ],
          "name": "stdout"
        },
        {
          "output_type": "stream",
          "text": [
            "0% [█] 100% | ETA: 00:00:00\n",
            "Total time elapsed: 00:00:01\n"
          ],
          "name": "stderr"
        },
        {
          "output_type": "stream",
          "text": [
            "Finished Epoch 8 || Run Time:    1.7 | Load Time:    0.8 || F1:  91.67 | Prec:  91.67 | Rec:  91.67 || Ex/s:  42.66\n",
            "\n",
            "===>  TRAIN Epoch 9 :\n"
          ],
          "name": "stdout"
        },
        {
          "output_type": "stream",
          "text": [
            "0% [████] 100% | ETA: 00:00:00\n",
            "Total time elapsed: 00:00:15\n"
          ],
          "name": "stderr"
        },
        {
          "output_type": "stream",
          "text": [
            "Finished Epoch 9 || Run Time:   13.9 | Load Time:    2.6 || F1: 100.00 | Prec: 100.00 | Rec: 100.00 || Ex/s:  19.64\n",
            "\n",
            "===>  EVAL Epoch 9 :\n"
          ],
          "name": "stdout"
        },
        {
          "output_type": "stream",
          "text": [
            "0% [█] 100% | ETA: 00:00:00\n",
            "Total time elapsed: 00:00:01\n"
          ],
          "name": "stderr"
        },
        {
          "output_type": "stream",
          "text": [
            "Finished Epoch 9 || Run Time:    1.7 | Load Time:    0.8 || F1:  89.80 | Prec:  88.00 | Rec:  91.67 || Ex/s:  42.77\n",
            "\n",
            "===>  TRAIN Epoch 10 :\n"
          ],
          "name": "stdout"
        },
        {
          "output_type": "stream",
          "text": [
            "0% [████] 100% | ETA: 00:00:00\n",
            "Total time elapsed: 00:00:15\n"
          ],
          "name": "stderr"
        },
        {
          "output_type": "stream",
          "text": [
            "Finished Epoch 10 || Run Time:   13.9 | Load Time:    2.6 || F1: 100.00 | Prec: 100.00 | Rec: 100.00 || Ex/s:  19.64\n",
            "\n",
            "===>  EVAL Epoch 10 :\n"
          ],
          "name": "stdout"
        },
        {
          "output_type": "stream",
          "text": [
            "0% [█] 100% | ETA: 00:00:00\n",
            "Total time elapsed: 00:00:01\n"
          ],
          "name": "stderr"
        },
        {
          "output_type": "stream",
          "text": [
            "Finished Epoch 10 || Run Time:    1.7 | Load Time:    0.8 || F1:  89.80 | Prec:  88.00 | Rec:  91.67 || Ex/s:  43.12\n",
            "\n",
            "===>  TRAIN Epoch 11 :\n"
          ],
          "name": "stdout"
        },
        {
          "output_type": "stream",
          "text": [
            "0% [████] 100% | ETA: 00:00:00\n",
            "Total time elapsed: 00:00:15\n"
          ],
          "name": "stderr"
        },
        {
          "output_type": "stream",
          "text": [
            "Finished Epoch 11 || Run Time:   14.0 | Load Time:    2.6 || F1: 100.00 | Prec: 100.00 | Rec: 100.00 || Ex/s:  19.50\n",
            "\n",
            "===>  EVAL Epoch 11 :\n"
          ],
          "name": "stdout"
        },
        {
          "output_type": "stream",
          "text": [
            "0% [█] 100% | ETA: 00:00:00\n",
            "Total time elapsed: 00:00:01\n"
          ],
          "name": "stderr"
        },
        {
          "output_type": "stream",
          "text": [
            "Finished Epoch 11 || Run Time:    1.7 | Load Time:    0.8 || F1:  89.80 | Prec:  88.00 | Rec:  91.67 || Ex/s:  42.93\n",
            "\n",
            "===>  TRAIN Epoch 12 :\n"
          ],
          "name": "stdout"
        },
        {
          "output_type": "stream",
          "text": [
            "0% [████] 100% | ETA: 00:00:00\n",
            "Total time elapsed: 00:00:15\n"
          ],
          "name": "stderr"
        },
        {
          "output_type": "stream",
          "text": [
            "Finished Epoch 12 || Run Time:   13.9 | Load Time:    2.6 || F1: 100.00 | Prec: 100.00 | Rec: 100.00 || Ex/s:  19.63\n",
            "\n",
            "===>  EVAL Epoch 12 :\n"
          ],
          "name": "stdout"
        },
        {
          "output_type": "stream",
          "text": [
            "0% [█] 100% | ETA: 00:00:00\n",
            "Total time elapsed: 00:00:01\n"
          ],
          "name": "stderr"
        },
        {
          "output_type": "stream",
          "text": [
            "Finished Epoch 12 || Run Time:    1.7 | Load Time:    0.8 || F1:  89.80 | Prec:  88.00 | Rec:  91.67 || Ex/s:  43.02\n",
            "\n",
            "===>  TRAIN Epoch 13 :\n"
          ],
          "name": "stdout"
        },
        {
          "output_type": "stream",
          "text": [
            "0% [████] 100% | ETA: 00:00:00\n",
            "Total time elapsed: 00:00:15\n"
          ],
          "name": "stderr"
        },
        {
          "output_type": "stream",
          "text": [
            "Finished Epoch 13 || Run Time:   14.0 | Load Time:    2.6 || F1: 100.00 | Prec: 100.00 | Rec: 100.00 || Ex/s:  19.55\n",
            "\n",
            "===>  EVAL Epoch 13 :\n"
          ],
          "name": "stdout"
        },
        {
          "output_type": "stream",
          "text": [
            "0% [█] 100% | ETA: 00:00:00\n",
            "Total time elapsed: 00:00:01\n"
          ],
          "name": "stderr"
        },
        {
          "output_type": "stream",
          "text": [
            "Finished Epoch 13 || Run Time:    1.7 | Load Time:    0.8 || F1:  89.80 | Prec:  88.00 | Rec:  91.67 || Ex/s:  43.01\n",
            "\n",
            "===>  TRAIN Epoch 14 :\n"
          ],
          "name": "stdout"
        },
        {
          "output_type": "stream",
          "text": [
            "0% [████] 100% | ETA: 00:00:00\n",
            "Total time elapsed: 00:00:15\n"
          ],
          "name": "stderr"
        },
        {
          "output_type": "stream",
          "text": [
            "Finished Epoch 14 || Run Time:   13.9 | Load Time:    2.6 || F1: 100.00 | Prec: 100.00 | Rec: 100.00 || Ex/s:  19.61\n",
            "\n",
            "===>  EVAL Epoch 14 :\n"
          ],
          "name": "stdout"
        },
        {
          "output_type": "stream",
          "text": [
            "0% [█] 100% | ETA: 00:00:00\n",
            "Total time elapsed: 00:00:01\n"
          ],
          "name": "stderr"
        },
        {
          "output_type": "stream",
          "text": [
            "Finished Epoch 14 || Run Time:    1.7 | Load Time:    0.8 || F1:  89.80 | Prec:  88.00 | Rec:  91.67 || Ex/s:  42.68\n",
            "\n",
            "===>  TRAIN Epoch 15 :\n"
          ],
          "name": "stdout"
        },
        {
          "output_type": "stream",
          "text": [
            "0% [████] 100% | ETA: 00:00:00\n",
            "Total time elapsed: 00:00:15\n"
          ],
          "name": "stderr"
        },
        {
          "output_type": "stream",
          "text": [
            "Finished Epoch 15 || Run Time:   13.8 | Load Time:    2.6 || F1: 100.00 | Prec: 100.00 | Rec: 100.00 || Ex/s:  19.70\n",
            "\n",
            "===>  EVAL Epoch 15 :\n"
          ],
          "name": "stdout"
        },
        {
          "output_type": "stream",
          "text": [
            "0% [█] 100% | ETA: 00:00:00\n",
            "Total time elapsed: 00:00:01\n"
          ],
          "name": "stderr"
        },
        {
          "output_type": "stream",
          "text": [
            "Finished Epoch 15 || Run Time:    1.7 | Load Time:    0.8 || F1:  89.80 | Prec:  88.00 | Rec:  91.67 || Ex/s:  43.21\n",
            "\n",
            "Loading best model...\n"
          ],
          "name": "stdout"
        }
      ]
    },
    {
      "metadata": {
        "id": "lejVqpjAQJPD",
        "colab_type": "text"
      },
      "cell_type": "markdown",
      "source": [
        "## Step 4. Apply model to new data\n",
        "\n",
        "### Evaluating on test data\n",
        "Now that we have a trained model for entity matching, we can now evaluate its accuracy on test data, to estimate the performance of the model on unlabeled data."
      ]
    },
    {
      "metadata": {
        "id": "jLoneAI_QJPD",
        "colab_type": "code",
        "colab": {
          "autoexec": {
            "startup": false,
            "wait_interval": 0
          },
          "base_uri": "https://localhost:8080/",
          "height": 86
        },
        "outputId": "2d8a56e0-8ab9-4826-a09f-ffa838eb4eed",
        "executionInfo": {
          "status": "ok",
          "timestamp": 1524617885197,
          "user_tz": 300,
          "elapsed": 2111,
          "user": {
            "displayName": "",
            "photoUrl": "",
            "userId": ""
          }
        }
      },
      "cell_type": "code",
      "source": [
        "# Compute F1 on test set\n",
        "model.run_eval(test)"
      ],
      "execution_count": 10,
      "outputs": [
        {
          "output_type": "stream",
          "text": [
            "===>  EVAL Epoch 7 :\n",
            "Finished Epoch 7 || Run Time:    1.0 | Load Time:    0.8 || F1:  84.21 | Prec:  92.31 | Rec:  77.42 || Ex/s:  60.42\n",
            "\n"
          ],
          "name": "stdout"
        },
        {
          "output_type": "execute_result",
          "data": {
            "text/plain": [
              "84.21052631578948"
            ]
          },
          "metadata": {
            "tags": []
          },
          "execution_count": 10
        }
      ]
    },
    {
      "metadata": {
        "id": "W4ixyezcQJPG",
        "colab_type": "text"
      },
      "cell_type": "markdown",
      "source": [
        "### Evaluating on unlabeled data\n",
        "\n",
        "We finally apply the trained model to unlabeled data to get predictions. To do this, we need to first process the unlabeled data.\n",
        "\n",
        "#### Processing unlabeled data\n",
        "\n",
        "To process unlabeled data, we use `dm.data.process_unlabeled`, as shown in the code snippet below. The basic parameters for this call are as follows:\n",
        "\n",
        "* **path (required): ** The full path to the unlabeled data file (not just the directory).\n",
        "* **trained_model (required): ** The trained model. The model is aware of the configuration of the training data on which it was trained, and so `deepmatcher` reuses the same configuration for the unlabeled data.\n",
        "* **ignore_columns (optional): ** Any columns in the unlabeled CSV file that you may want to ignore for the purposes of training. If not specified, the columns that were ignored while processing the training set will also be ignored while processing the unlabeled data.\n",
        "\n",
        "Note that the unlabeled CSV file must have the same schema as the train, validation and test CSVs."
      ]
    },
    {
      "metadata": {
        "id": "ZmZ7EAtmQJPH",
        "colab_type": "code",
        "colab": {
          "autoexec": {
            "startup": false,
            "wait_interval": 0
          },
          "base_uri": "https://localhost:8080/",
          "height": 52
        },
        "outputId": "dfbe84b0-996b-49f0-caf0-b3961e9b2c70",
        "executionInfo": {
          "status": "ok",
          "timestamp": 1524617889802,
          "user_tz": 300,
          "elapsed": 725,
          "user": {
            "displayName": "",
            "photoUrl": "",
            "userId": ""
          }
        }
      },
      "cell_type": "code",
      "source": [
        "unlabeled = dm.data.process_unlabeled(\n",
        "    path='sample_data/itunes-amazon/unlabeled.csv',\n",
        "    trained_model=model,\n",
        "    ignore_columns=('left_id', 'right_id'))"
      ],
      "execution_count": 11,
      "outputs": [
        {
          "output_type": "stream",
          "text": [
            "Load time: 0.43851208899991434\n",
            "Vocab update time: 0.02722389599989583\n"
          ],
          "name": "stdout"
        }
      ]
    },
    {
      "metadata": {
        "id": "OF18CNWbQJPM",
        "colab_type": "text"
      },
      "cell_type": "markdown",
      "source": [
        "#### Obtaining predictions\n",
        "\n",
        "Next, we call the `run_prediction` method which takes a processed data set object and returns a `pandas` dataframe containing tuple pair IDs (`id` column) and the corresponding match score predictions (`match_score` column). `match_scores` are in [0, 1] and a score above 0.5 indicates a match prediction."
      ]
    },
    {
      "metadata": {
        "id": "0UE0Lg4KQJPN",
        "colab_type": "code",
        "colab": {
          "autoexec": {
            "startup": false,
            "wait_interval": 0
          },
          "base_uri": "https://localhost:8080/",
          "height": 314
        },
        "outputId": "3a518e46-7b56-4cf7-9df1-ba440ea9becf",
        "executionInfo": {
          "status": "ok",
          "timestamp": 1524617897938,
          "user_tz": 300,
          "elapsed": 4427,
          "user": {
            "displayName": "",
            "photoUrl": "",
            "userId": ""
          }
        }
      },
      "cell_type": "code",
      "source": [
        "predictions = model.run_prediction(unlabeled)\n",
        "predictions.head()"
      ],
      "execution_count": 12,
      "outputs": [
        {
          "output_type": "stream",
          "text": [
            "===>  PREDICT Epoch 7 :\n"
          ],
          "name": "stdout"
        },
        {
          "output_type": "stream",
          "text": [
            "0% [██] 100% | ETA: 00:00:00\n",
            "Total time elapsed: 00:00:03\n"
          ],
          "name": "stderr"
        },
        {
          "output_type": "stream",
          "text": [
            "Finished Epoch 7 || Run Time:    2.5 | Load Time:    1.5 || F1:   0.00 | Prec:   0.00 | Rec:   0.00 || Ex/s:   0.00\n",
            "\n"
          ],
          "name": "stdout"
        },
        {
          "output_type": "execute_result",
          "data": {
            "text/html": [
              "<div>\n",
              "<style scoped>\n",
              "    .dataframe tbody tr th:only-of-type {\n",
              "        vertical-align: middle;\n",
              "    }\n",
              "\n",
              "    .dataframe tbody tr th {\n",
              "        vertical-align: top;\n",
              "    }\n",
              "\n",
              "    .dataframe thead th {\n",
              "        text-align: right;\n",
              "    }\n",
              "</style>\n",
              "<table border=\"1\" class=\"dataframe\">\n",
              "  <thead>\n",
              "    <tr style=\"text-align: right;\">\n",
              "      <th></th>\n",
              "      <th>match_score</th>\n",
              "    </tr>\n",
              "    <tr>\n",
              "      <th>id</th>\n",
              "      <th></th>\n",
              "    </tr>\n",
              "  </thead>\n",
              "  <tbody>\n",
              "    <tr>\n",
              "      <th>28998</th>\n",
              "      <td>0.120477</td>\n",
              "    </tr>\n",
              "    <tr>\n",
              "      <th>29266</th>\n",
              "      <td>0.059813</td>\n",
              "    </tr>\n",
              "    <tr>\n",
              "      <th>29265</th>\n",
              "      <td>0.059813</td>\n",
              "    </tr>\n",
              "    <tr>\n",
              "      <th>29262</th>\n",
              "      <td>0.059813</td>\n",
              "    </tr>\n",
              "    <tr>\n",
              "      <th>29261</th>\n",
              "      <td>0.059813</td>\n",
              "    </tr>\n",
              "  </tbody>\n",
              "</table>\n",
              "</div>"
            ],
            "text/plain": [
              "       match_score\n",
              "id                \n",
              "28998     0.120477\n",
              "29266     0.059813\n",
              "29265     0.059813\n",
              "29262     0.059813\n",
              "29261     0.059813"
            ]
          },
          "metadata": {
            "tags": []
          },
          "execution_count": 12
        }
      ]
    },
    {
      "metadata": {
        "id": "vXclEMhkQJPR",
        "colab_type": "text"
      },
      "cell_type": "markdown",
      "source": [
        "You may optionally set the `output_attributes` parameter to also include all attributes present in the original input table. As mentioned earlier, the processed attribute values will likely look a bit different from the attribute values in the input CSV files due to modifications such as tokenization and lowercasing."
      ]
    },
    {
      "metadata": {
        "id": "0wPnH3NPQJPS",
        "colab_type": "code",
        "colab": {
          "autoexec": {
            "startup": false,
            "wait_interval": 0
          },
          "base_uri": "https://localhost:8080/",
          "height": 680
        },
        "outputId": "f0976d43-3c45-49e6-ac10-78a40eed81e0",
        "executionInfo": {
          "status": "ok",
          "timestamp": 1524617906156,
          "user_tz": 300,
          "elapsed": 4414,
          "user": {
            "displayName": "",
            "photoUrl": "",
            "userId": ""
          }
        }
      },
      "cell_type": "code",
      "source": [
        "predictions = model.run_prediction(unlabeled, output_attributes=True)\n",
        "predictions.head()"
      ],
      "execution_count": 13,
      "outputs": [
        {
          "output_type": "stream",
          "text": [
            "===>  PREDICT Epoch 7 :\n"
          ],
          "name": "stdout"
        },
        {
          "output_type": "stream",
          "text": [
            "0% [██] 100% | ETA: 00:00:00\n",
            "Total time elapsed: 00:00:03\n"
          ],
          "name": "stderr"
        },
        {
          "output_type": "stream",
          "text": [
            "Finished Epoch 7 || Run Time:    2.4 | Load Time:    1.4 || F1:   0.00 | Prec:   0.00 | Rec:   0.00 || Ex/s:   0.00\n",
            "\n"
          ],
          "name": "stdout"
        },
        {
          "output_type": "execute_result",
          "data": {
            "text/html": [
              "<div>\n",
              "<style scoped>\n",
              "    .dataframe tbody tr th:only-of-type {\n",
              "        vertical-align: middle;\n",
              "    }\n",
              "\n",
              "    .dataframe tbody tr th {\n",
              "        vertical-align: top;\n",
              "    }\n",
              "\n",
              "    .dataframe thead th {\n",
              "        text-align: right;\n",
              "    }\n",
              "</style>\n",
              "<table border=\"1\" class=\"dataframe\">\n",
              "  <thead>\n",
              "    <tr style=\"text-align: right;\">\n",
              "      <th></th>\n",
              "      <th>match_score</th>\n",
              "      <th>left_id</th>\n",
              "      <th>right_id</th>\n",
              "      <th>left_Song_Name</th>\n",
              "      <th>left_Artist_Name</th>\n",
              "      <th>left_Album_Name</th>\n",
              "      <th>left_Genre</th>\n",
              "      <th>left_Price</th>\n",
              "      <th>left_CopyRight</th>\n",
              "      <th>left_Time</th>\n",
              "      <th>left_Released</th>\n",
              "      <th>right_Song_Name</th>\n",
              "      <th>right_Artist_Name</th>\n",
              "      <th>right_Album_Name</th>\n",
              "      <th>right_Genre</th>\n",
              "      <th>right_Price</th>\n",
              "      <th>right_CopyRight</th>\n",
              "      <th>right_Time</th>\n",
              "      <th>right_Released</th>\n",
              "    </tr>\n",
              "    <tr>\n",
              "      <th>id</th>\n",
              "      <th></th>\n",
              "      <th></th>\n",
              "      <th></th>\n",
              "      <th></th>\n",
              "      <th></th>\n",
              "      <th></th>\n",
              "      <th></th>\n",
              "      <th></th>\n",
              "      <th></th>\n",
              "      <th></th>\n",
              "      <th></th>\n",
              "      <th></th>\n",
              "      <th></th>\n",
              "      <th></th>\n",
              "      <th></th>\n",
              "      <th></th>\n",
              "      <th></th>\n",
              "      <th></th>\n",
              "      <th></th>\n",
              "    </tr>\n",
              "  </thead>\n",
              "  <tbody>\n",
              "    <tr>\n",
              "      <th>28998</th>\n",
              "      <td>0.120477</td>\n",
              "      <td>2298</td>\n",
              "      <td>1235</td>\n",
              "      <td>Because of Your Love</td>\n",
              "      <td>Kenny Chesney</td>\n",
              "      <td>Greatest Hits</td>\n",
              "      <td>Country , Music , Contemporary Country , Urban...</td>\n",
              "      <td>$ 0.99</td>\n",
              "      <td>2000 BMG Entertainment</td>\n",
              "      <td>4:16</td>\n",
              "      <td>26-Sep-00</td>\n",
              "      <td>Run Thru Your Mind</td>\n",
              "      <td>Kenny Rogers</td>\n",
              "      <td>49 All Time Greatest Hits</td>\n",
              "      <td>Country , Traditional Country , Cowboy</td>\n",
              "      <td>$ 0.89</td>\n",
              "      <td>( c ) 2008 Goldenlane Records</td>\n",
              "      <td>2:57</td>\n",
              "      <td>August 1 , 2008</td>\n",
              "    </tr>\n",
              "    <tr>\n",
              "      <th>29266</th>\n",
              "      <td>0.059813</td>\n",
              "      <td>2482</td>\n",
              "      <td>1238</td>\n",
              "      <td>Because of Your Love</td>\n",
              "      <td>Kenny Chesney</td>\n",
              "      <td>Greatest Hits</td>\n",
              "      <td>Country , Music , Contemporary Country , Urban...</td>\n",
              "      <td>$ 0.99</td>\n",
              "      <td>2000 BMG Entertainment</td>\n",
              "      <td>4:16</td>\n",
              "      <td>26-Sep-00</td>\n",
              "      <td>Hurry Up Love</td>\n",
              "      <td>Kenny Rogers</td>\n",
              "      <td>49 All Time Greatest Hits</td>\n",
              "      <td>Country , Traditional Country , Cowboy</td>\n",
              "      <td>$ 0.89</td>\n",
              "      <td>( c ) 2008 Goldenlane Records</td>\n",
              "      <td>2:29</td>\n",
              "      <td>August 1 , 2008</td>\n",
              "    </tr>\n",
              "    <tr>\n",
              "      <th>29265</th>\n",
              "      <td>0.059813</td>\n",
              "      <td>2477</td>\n",
              "      <td>1238</td>\n",
              "      <td>Because of Your Love</td>\n",
              "      <td>Kenny Chesney</td>\n",
              "      <td>Greatest Hits</td>\n",
              "      <td>Country , Music , Contemporary Country , Urban...</td>\n",
              "      <td>$ 0.99</td>\n",
              "      <td>2000 BMG Entertainment</td>\n",
              "      <td>4:16</td>\n",
              "      <td>26-Sep-00</td>\n",
              "      <td>Hurry Up Love</td>\n",
              "      <td>Kenny Rogers</td>\n",
              "      <td>49 All Time Greatest Hits</td>\n",
              "      <td>Country , Traditional Country , Cowboy</td>\n",
              "      <td>$ 0.89</td>\n",
              "      <td>( c ) 2008 Goldenlane Records</td>\n",
              "      <td>2:29</td>\n",
              "      <td>August 1 , 2008</td>\n",
              "    </tr>\n",
              "    <tr>\n",
              "      <th>29262</th>\n",
              "      <td>0.059813</td>\n",
              "      <td>2370</td>\n",
              "      <td>1238</td>\n",
              "      <td>Because of Your Love</td>\n",
              "      <td>Kenny Chesney</td>\n",
              "      <td>Greatest Hits</td>\n",
              "      <td>Country , Music , Contemporary Country , Urban...</td>\n",
              "      <td>$ 0.99</td>\n",
              "      <td>2000 BMG Entertainment</td>\n",
              "      <td>4:16</td>\n",
              "      <td>26-Sep-00</td>\n",
              "      <td>Hurry Up Love</td>\n",
              "      <td>Kenny Rogers</td>\n",
              "      <td>49 All Time Greatest Hits</td>\n",
              "      <td>Country , Traditional Country , Cowboy</td>\n",
              "      <td>$ 0.89</td>\n",
              "      <td>( c ) 2008 Goldenlane Records</td>\n",
              "      <td>2:29</td>\n",
              "      <td>August 1 , 2008</td>\n",
              "    </tr>\n",
              "    <tr>\n",
              "      <th>29261</th>\n",
              "      <td>0.059813</td>\n",
              "      <td>2369</td>\n",
              "      <td>1238</td>\n",
              "      <td>Because of Your Love</td>\n",
              "      <td>Kenny Chesney</td>\n",
              "      <td>Greatest Hits</td>\n",
              "      <td>Country , Music , Contemporary Country , Urban...</td>\n",
              "      <td>$ 0.99</td>\n",
              "      <td>2000 BMG Entertainment</td>\n",
              "      <td>4:16</td>\n",
              "      <td>26-Sep-00</td>\n",
              "      <td>Hurry Up Love</td>\n",
              "      <td>Kenny Rogers</td>\n",
              "      <td>49 All Time Greatest Hits</td>\n",
              "      <td>Country , Traditional Country , Cowboy</td>\n",
              "      <td>$ 0.89</td>\n",
              "      <td>( c ) 2008 Goldenlane Records</td>\n",
              "      <td>2:29</td>\n",
              "      <td>August 1 , 2008</td>\n",
              "    </tr>\n",
              "  </tbody>\n",
              "</table>\n",
              "</div>"
            ],
            "text/plain": [
              "       match_score  left_id  right_id        left_Song_Name left_Artist_Name  \\\n",
              "id                                                                             \n",
              "28998     0.120477     2298      1235  Because of Your Love    Kenny Chesney   \n",
              "29266     0.059813     2482      1238  Because of Your Love    Kenny Chesney   \n",
              "29265     0.059813     2477      1238  Because of Your Love    Kenny Chesney   \n",
              "29262     0.059813     2370      1238  Because of Your Love    Kenny Chesney   \n",
              "29261     0.059813     2369      1238  Because of Your Love    Kenny Chesney   \n",
              "\n",
              "      left_Album_Name                                         left_Genre  \\\n",
              "id                                                                         \n",
              "28998   Greatest Hits  Country , Music , Contemporary Country , Urban...   \n",
              "29266   Greatest Hits  Country , Music , Contemporary Country , Urban...   \n",
              "29265   Greatest Hits  Country , Music , Contemporary Country , Urban...   \n",
              "29262   Greatest Hits  Country , Music , Contemporary Country , Urban...   \n",
              "29261   Greatest Hits  Country , Music , Contemporary Country , Urban...   \n",
              "\n",
              "      left_Price          left_CopyRight left_Time left_Released  \\\n",
              "id                                                                 \n",
              "28998     $ 0.99  2000 BMG Entertainment      4:16     26-Sep-00   \n",
              "29266     $ 0.99  2000 BMG Entertainment      4:16     26-Sep-00   \n",
              "29265     $ 0.99  2000 BMG Entertainment      4:16     26-Sep-00   \n",
              "29262     $ 0.99  2000 BMG Entertainment      4:16     26-Sep-00   \n",
              "29261     $ 0.99  2000 BMG Entertainment      4:16     26-Sep-00   \n",
              "\n",
              "          right_Song_Name right_Artist_Name           right_Album_Name  \\\n",
              "id                                                                       \n",
              "28998  Run Thru Your Mind      Kenny Rogers  49 All Time Greatest Hits   \n",
              "29266       Hurry Up Love      Kenny Rogers  49 All Time Greatest Hits   \n",
              "29265       Hurry Up Love      Kenny Rogers  49 All Time Greatest Hits   \n",
              "29262       Hurry Up Love      Kenny Rogers  49 All Time Greatest Hits   \n",
              "29261       Hurry Up Love      Kenny Rogers  49 All Time Greatest Hits   \n",
              "\n",
              "                                  right_Genre right_Price  \\\n",
              "id                                                          \n",
              "28998  Country , Traditional Country , Cowboy      $ 0.89   \n",
              "29266  Country , Traditional Country , Cowboy      $ 0.89   \n",
              "29265  Country , Traditional Country , Cowboy      $ 0.89   \n",
              "29262  Country , Traditional Country , Cowboy      $ 0.89   \n",
              "29261  Country , Traditional Country , Cowboy      $ 0.89   \n",
              "\n",
              "                     right_CopyRight right_Time   right_Released  \n",
              "id                                                                \n",
              "28998  ( c ) 2008 Goldenlane Records       2:57  August 1 , 2008  \n",
              "29266  ( c ) 2008 Goldenlane Records       2:29  August 1 , 2008  \n",
              "29265  ( c ) 2008 Goldenlane Records       2:29  August 1 , 2008  \n",
              "29262  ( c ) 2008 Goldenlane Records       2:29  August 1 , 2008  \n",
              "29261  ( c ) 2008 Goldenlane Records       2:29  August 1 , 2008  "
            ]
          },
          "metadata": {
            "tags": []
          },
          "execution_count": 13
        }
      ]
    },
    {
      "metadata": {
        "id": "bJxMcI0eQJPU",
        "colab_type": "text"
      },
      "cell_type": "markdown",
      "source": [
        "You can then save these predictions to CSV and use them for downstream tasks."
      ]
    },
    {
      "metadata": {
        "id": "oZYSXoNNQJPV",
        "colab_type": "code",
        "colab": {
          "autoexec": {
            "startup": false,
            "wait_interval": 0
          },
          "base_uri": "https://localhost:8080/",
          "height": 17
        },
        "outputId": "4bef5e85-abd1-472d-dc02-8a0145696a28",
        "executionInfo": {
          "status": "ok",
          "timestamp": 1524617921564,
          "user_tz": 300,
          "elapsed": 240,
          "user": {
            "displayName": "",
            "photoUrl": "",
            "userId": ""
          }
        }
      },
      "cell_type": "code",
      "source": [
        "predictions.to_csv('sample_data/itunes-amazon/unlabeled_predictions.csv')"
      ],
      "execution_count": 14,
      "outputs": []
    },
    {
      "metadata": {
        "id": "3Xo0ULsqQJPX",
        "colab_type": "text"
      },
      "cell_type": "markdown",
      "source": [
        "#### Getting predictions on labeled data\n",
        "\n",
        "You can also get predictions for labeled data such as validation data. To do so, you can simply call the `run_prediction` method passing the validation data as argument."
      ]
    },
    {
      "metadata": {
        "id": "iXvu3exAQJPY",
        "colab_type": "code",
        "colab": {
          "autoexec": {
            "startup": false,
            "wait_interval": 0
          },
          "base_uri": "https://localhost:8080/",
          "height": 490
        },
        "outputId": "0491b0fc-0fcd-416e-a3b4-9360fe052c7f",
        "executionInfo": {
          "status": "ok",
          "timestamp": 1524617938346,
          "user_tz": 300,
          "elapsed": 2330,
          "user": {
            "displayName": "",
            "photoUrl": "",
            "userId": ""
          }
        }
      },
      "cell_type": "code",
      "source": [
        "valid_predictions = model.run_prediction(validation, output_attributes=True)\n",
        "valid_predictions.head()"
      ],
      "execution_count": 15,
      "outputs": [
        {
          "output_type": "stream",
          "text": [
            "===>  PREDICT Epoch 7 :\n",
            "Finished Epoch 7 || Run Time:    1.0 | Load Time:    0.8 || F1:  91.67 | Prec:  91.67 | Rec:  91.67 || Ex/s:  58.60\n",
            "\n"
          ],
          "name": "stdout"
        },
        {
          "output_type": "execute_result",
          "data": {
            "text/html": [
              "<div>\n",
              "<style scoped>\n",
              "    .dataframe tbody tr th:only-of-type {\n",
              "        vertical-align: middle;\n",
              "    }\n",
              "\n",
              "    .dataframe tbody tr th {\n",
              "        vertical-align: top;\n",
              "    }\n",
              "\n",
              "    .dataframe thead th {\n",
              "        text-align: right;\n",
              "    }\n",
              "</style>\n",
              "<table border=\"1\" class=\"dataframe\">\n",
              "  <thead>\n",
              "    <tr style=\"text-align: right;\">\n",
              "      <th></th>\n",
              "      <th>match_score</th>\n",
              "      <th>left_id</th>\n",
              "      <th>right_id</th>\n",
              "      <th>label</th>\n",
              "      <th>left_Song_Name</th>\n",
              "      <th>left_Artist_Name</th>\n",
              "      <th>left_Album_Name</th>\n",
              "      <th>left_Genre</th>\n",
              "      <th>left_Price</th>\n",
              "      <th>left_CopyRight</th>\n",
              "      <th>left_Time</th>\n",
              "      <th>left_Released</th>\n",
              "      <th>right_Song_Name</th>\n",
              "      <th>right_Artist_Name</th>\n",
              "      <th>right_Album_Name</th>\n",
              "      <th>right_Genre</th>\n",
              "      <th>right_Price</th>\n",
              "      <th>right_CopyRight</th>\n",
              "      <th>right_Time</th>\n",
              "      <th>right_Released</th>\n",
              "    </tr>\n",
              "    <tr>\n",
              "      <th>id</th>\n",
              "      <th></th>\n",
              "      <th></th>\n",
              "      <th></th>\n",
              "      <th></th>\n",
              "      <th></th>\n",
              "      <th></th>\n",
              "      <th></th>\n",
              "      <th></th>\n",
              "      <th></th>\n",
              "      <th></th>\n",
              "      <th></th>\n",
              "      <th></th>\n",
              "      <th></th>\n",
              "      <th></th>\n",
              "      <th></th>\n",
              "      <th></th>\n",
              "      <th></th>\n",
              "      <th></th>\n",
              "      <th></th>\n",
              "      <th></th>\n",
              "    </tr>\n",
              "  </thead>\n",
              "  <tbody>\n",
              "    <tr>\n",
              "      <th>180</th>\n",
              "      <td>0.275759</td>\n",
              "      <td>1355</td>\n",
              "      <td>6230</td>\n",
              "      <td>0</td>\n",
              "      <td>Stars Come Out ( Tim Mason Remix )</td>\n",
              "      <td>Zedd</td>\n",
              "      <td>Stars Come Out ( Remixes ) - EP</td>\n",
              "      <td>Dance , Music , Electronic , House</td>\n",
              "      <td>$ 1.29</td>\n",
              "      <td>2012 Dim Mak Inc.</td>\n",
              "      <td>5:49</td>\n",
              "      <td>20-May-14</td>\n",
              "      <td>Beautiful Now ( Marshmello Remix ) [ feat . Jo...</td>\n",
              "      <td>Zedd</td>\n",
              "      <td>Beautiful Now ( Remixes )</td>\n",
              "      <td>Dance &amp; Electronic</td>\n",
              "      <td>$ 1.29</td>\n",
              "      <td>( C ) 2015 Interscope Records</td>\n",
              "      <td>3:16</td>\n",
              "      <td>July 10 , 2015</td>\n",
              "    </tr>\n",
              "    <tr>\n",
              "      <th>240</th>\n",
              "      <td>0.174738</td>\n",
              "      <td>2022</td>\n",
              "      <td>28261</td>\n",
              "      <td>0</td>\n",
              "      <td>If I Am a Stranger ( Live In Amsterdam )</td>\n",
              "      <td>Ryan Adams</td>\n",
              "      <td>Live After Deaf ( Live ) [ Complete Collection ]</td>\n",
              "      <td>Singer/Songwriter , Music , Rock</td>\n",
              "      <td>$ 0.99</td>\n",
              "      <td>2012 PAXAM RECORDS</td>\n",
              "      <td>5:10</td>\n",
              "      <td>2-Jul-12</td>\n",
              "      <td>The Rescue Blues ( Live in London 1 )</td>\n",
              "      <td>Ryan Adams</td>\n",
              "      <td>Live After Deaf ( Collection )</td>\n",
              "      <td>Folk , Rock</td>\n",
              "      <td>$ 0.99</td>\n",
              "      <td>2012 PAXAM RECORDS</td>\n",
              "      <td>3:25</td>\n",
              "      <td>July 2 , 2012</td>\n",
              "    </tr>\n",
              "    <tr>\n",
              "      <th>295</th>\n",
              "      <td>0.062724</td>\n",
              "      <td>2959</td>\n",
              "      <td>7497</td>\n",
              "      <td>0</td>\n",
              "      <td>Thinking About You ( feat . Ayah Marar ) [ Mic...</td>\n",
              "      <td>Calvin Harris</td>\n",
              "      <td>Thinking About You ( feat . Ayah Marar ) [ Rem...</td>\n",
              "      <td>Dance , Music</td>\n",
              "      <td>$ 1.29</td>\n",
              "      <td>2013 Sony Music Entertainment UK Limited</td>\n",
              "      <td>5:42</td>\n",
              "      <td>2-Aug-13</td>\n",
              "      <td>Blame ( Burns Remix )</td>\n",
              "      <td>Calvin Harris feat . John Newman</td>\n",
              "      <td>Blame ( Remixes )</td>\n",
              "      <td>Dance &amp; Electronic</td>\n",
              "      <td>$ 1.29</td>\n",
              "      <td>2013 1i Music</td>\n",
              "      <td>4:17</td>\n",
              "      <td>November 10 , 2014</td>\n",
              "    </tr>\n",
              "    <tr>\n",
              "      <th>231</th>\n",
              "      <td>0.109148</td>\n",
              "      <td>2020</td>\n",
              "      <td>28191</td>\n",
              "      <td>0</td>\n",
              "      <td>If I Am a Stranger ( Live In Amsterdam )</td>\n",
              "      <td>Ryan Adams</td>\n",
              "      <td>Live After Deaf ( Live ) [ Complete Collection ]</td>\n",
              "      <td>Singer/Songwriter , Music , Rock</td>\n",
              "      <td>$ 0.99</td>\n",
              "      <td>2012 PAXAM RECORDS</td>\n",
              "      <td>5:10</td>\n",
              "      <td>2-Jul-12</td>\n",
              "      <td>Dear Chicago ( Live in Stockholm )</td>\n",
              "      <td>Ryan Adams</td>\n",
              "      <td>Live After Deaf ( Collection )</td>\n",
              "      <td>Folk , Rock</td>\n",
              "      <td>$ 0.99</td>\n",
              "      <td>2012 PAXAM RECORDS</td>\n",
              "      <td>2:29</td>\n",
              "      <td>July 2 , 2012</td>\n",
              "    </tr>\n",
              "    <tr>\n",
              "      <th>155</th>\n",
              "      <td>0.067019</td>\n",
              "      <td>1285</td>\n",
              "      <td>34041</td>\n",
              "      <td>0</td>\n",
              "      <td>I 'm a Machine ( feat . Crystal Nicole and Tyr...</td>\n",
              "      <td>David Guetta</td>\n",
              "      <td>Nothing But the Beat</td>\n",
              "      <td>Dance , Music , Rock , House , Electronic</td>\n",
              "      <td>$ 1.29</td>\n",
              "      <td>2011 What A Music Ltd , Licence exclusive Parl...</td>\n",
              "      <td>3:34</td>\n",
              "      <td>26-Aug-11</td>\n",
              "      <td>Little Bad Girl ( feat . Taio Cruz &amp; Ludacris ...</td>\n",
              "      <td>David Guetta</td>\n",
              "      <td>Nothing But the Beat 2.0 [ Explicit ]</td>\n",
              "      <td>Dance &amp; Electronic</td>\n",
              "      <td>$ 0.99</td>\n",
              "      <td>2015 Real Sounds</td>\n",
              "      <td>3:12</td>\n",
              "      <td>August 26 , 2011</td>\n",
              "    </tr>\n",
              "  </tbody>\n",
              "</table>\n",
              "</div>"
            ],
            "text/plain": [
              "     match_score  left_id  right_id  label  \\\n",
              "id                                           \n",
              "180     0.275759     1355      6230      0   \n",
              "240     0.174738     2022     28261      0   \n",
              "295     0.062724     2959      7497      0   \n",
              "231     0.109148     2020     28191      0   \n",
              "155     0.067019     1285     34041      0   \n",
              "\n",
              "                                        left_Song_Name left_Artist_Name  \\\n",
              "id                                                                        \n",
              "180                 Stars Come Out ( Tim Mason Remix )             Zedd   \n",
              "240           If I Am a Stranger ( Live In Amsterdam )       Ryan Adams   \n",
              "295  Thinking About You ( feat . Ayah Marar ) [ Mic...    Calvin Harris   \n",
              "231           If I Am a Stranger ( Live In Amsterdam )       Ryan Adams   \n",
              "155  I 'm a Machine ( feat . Crystal Nicole and Tyr...     David Guetta   \n",
              "\n",
              "                                       left_Album_Name  \\\n",
              "id                                                       \n",
              "180                    Stars Come Out ( Remixes ) - EP   \n",
              "240   Live After Deaf ( Live ) [ Complete Collection ]   \n",
              "295  Thinking About You ( feat . Ayah Marar ) [ Rem...   \n",
              "231   Live After Deaf ( Live ) [ Complete Collection ]   \n",
              "155                               Nothing But the Beat   \n",
              "\n",
              "                                    left_Genre left_Price  \\\n",
              "id                                                          \n",
              "180         Dance , Music , Electronic , House     $ 1.29   \n",
              "240           Singer/Songwriter , Music , Rock     $ 0.99   \n",
              "295                              Dance , Music     $ 1.29   \n",
              "231           Singer/Songwriter , Music , Rock     $ 0.99   \n",
              "155  Dance , Music , Rock , House , Electronic     $ 1.29   \n",
              "\n",
              "                                        left_CopyRight left_Time  \\\n",
              "id                                                                 \n",
              "180                                  2012 Dim Mak Inc.      5:49   \n",
              "240                                 2012 PAXAM RECORDS      5:10   \n",
              "295           2013 Sony Music Entertainment UK Limited      5:42   \n",
              "231                                 2012 PAXAM RECORDS      5:10   \n",
              "155  2011 What A Music Ltd , Licence exclusive Parl...      3:34   \n",
              "\n",
              "    left_Released                                    right_Song_Name  \\\n",
              "id                                                                     \n",
              "180     20-May-14  Beautiful Now ( Marshmello Remix ) [ feat . Jo...   \n",
              "240      2-Jul-12              The Rescue Blues ( Live in London 1 )   \n",
              "295      2-Aug-13                              Blame ( Burns Remix )   \n",
              "231      2-Jul-12                 Dear Chicago ( Live in Stockholm )   \n",
              "155     26-Aug-11  Little Bad Girl ( feat . Taio Cruz & Ludacris ...   \n",
              "\n",
              "                    right_Artist_Name                       right_Album_Name  \\\n",
              "id                                                                             \n",
              "180                              Zedd              Beautiful Now ( Remixes )   \n",
              "240                        Ryan Adams         Live After Deaf ( Collection )   \n",
              "295  Calvin Harris feat . John Newman                      Blame ( Remixes )   \n",
              "231                        Ryan Adams         Live After Deaf ( Collection )   \n",
              "155                      David Guetta  Nothing But the Beat 2.0 [ Explicit ]   \n",
              "\n",
              "            right_Genre right_Price                right_CopyRight right_Time  \\\n",
              "id                                                                              \n",
              "180  Dance & Electronic      $ 1.29  ( C ) 2015 Interscope Records       3:16   \n",
              "240         Folk , Rock      $ 0.99             2012 PAXAM RECORDS       3:25   \n",
              "295  Dance & Electronic      $ 1.29                  2013 1i Music       4:17   \n",
              "231         Folk , Rock      $ 0.99             2012 PAXAM RECORDS       2:29   \n",
              "155  Dance & Electronic      $ 0.99               2015 Real Sounds       3:12   \n",
              "\n",
              "         right_Released  \n",
              "id                       \n",
              "180      July 10 , 2015  \n",
              "240       July 2 , 2012  \n",
              "295  November 10 , 2014  \n",
              "231       July 2 , 2012  \n",
              "155    August 26 , 2011  "
            ]
          },
          "metadata": {
            "tags": []
          },
          "execution_count": 15
        }
      ]
    }
  ]
}
